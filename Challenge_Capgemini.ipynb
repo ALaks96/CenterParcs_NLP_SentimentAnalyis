{
 "cells": [
  {
   "cell_type": "markdown",
   "metadata": {},
   "source": [
    "# Datacamp CapGemini - Novotel Challenge"
   ]
  },
  {
   "cell_type": "markdown",
   "metadata": {},
   "source": [
    "We are given the task to predict the rating of a Novotel hotel based on reviews scrapped from the web. In order to do this, we must start by applying some various NLP methods to extract valuable insights on how we're going to use the data at hand to accomplish this goal."
   ]
  },
  {
   "cell_type": "code",
   "execution_count": 1,
   "metadata": {},
   "outputs": [],
   "source": [
    "import pandas as pd\n",
    "import matplotlib.pyplot as plt\n",
    "import seaborn as sns\n",
    "import re\n",
    "import xgboost as xgb\n",
    "import numpy as np\n",
    "\n",
    "import nltk\n",
    "from nltk import word_tokenize\n",
    "from nltk.tokenize import word_tokenize\n",
    "from nltk.corpus import stopwords\n",
    "from nltk.stem.wordnet import WordNetLemmatizer\n",
    "\n",
    "from sklearn.feature_extraction.text import CountVectorizer\n",
    "from sklearn.feature_extraction.text import TfidfVectorizer\n",
    "from sklearn.model_selection import train_test_split\n",
    "from sklearn.naive_bayes import MultinomialNB\n",
    "from sklearn import metrics\n",
    "from sklearn.metrics import accuracy_score, precision_score, recall_score, f1_score, confusion_matrix\n",
    "from sklearn.metrics import roc_curve, auc\n",
    "from sklearn.metrics import log_loss\n",
    "from sklearn.metrics import roc_auc_score\n",
    "from sklearn.linear_model import LogisticRegression\n",
    "from sklearn.ensemble import RandomForestClassifier\n",
    "from sklearn.svm import LinearSVC\n",
    "\n",
    "from sklearn.model_selection import cross_val_score\n",
    "\n",
    "from collections import Counter\n",
    "\n",
    "import imblearn\n",
    "from imblearn.over_sampling import SMOTE"
   ]
  },
  {
   "cell_type": "markdown",
   "metadata": {},
   "source": [
    "## 1. EDA - Extracting insights using NLP"
   ]
  },
  {
   "cell_type": "markdown",
   "metadata": {},
   "source": [
    "In this section you will find all the exploration we have done on our data, they will dictate what model we'll use and how we implement it."
   ]
  },
  {
   "cell_type": "markdown",
   "metadata": {},
   "source": [
    "### 1.1 Loading the data"
   ]
  },
  {
   "cell_type": "code",
   "execution_count": 60,
   "metadata": {},
   "outputs": [
    {
     "data": {
      "text/html": [
       "<div>\n",
       "<style scoped>\n",
       "    .dataframe tbody tr th:only-of-type {\n",
       "        vertical-align: middle;\n",
       "    }\n",
       "\n",
       "    .dataframe tbody tr th {\n",
       "        vertical-align: top;\n",
       "    }\n",
       "\n",
       "    .dataframe thead th {\n",
       "        text-align: right;\n",
       "    }\n",
       "</style>\n",
       "<table border=\"1\" class=\"dataframe\">\n",
       "  <thead>\n",
       "    <tr style=\"text-align: right;\">\n",
       "      <th></th>\n",
       "      <th>hotel_name</th>\n",
       "      <th>trip_date</th>\n",
       "      <th>title</th>\n",
       "      <th>review</th>\n",
       "      <th>rating</th>\n",
       "    </tr>\n",
       "  </thead>\n",
       "  <tbody>\n",
       "    <tr>\n",
       "      <th>0</th>\n",
       "      <td>Novotel Canberra</td>\n",
       "      <td>June 2015</td>\n",
       "      <td>A great choice in Canberra</td>\n",
       "      <td>A central, clean, modern hotel with great serv...</td>\n",
       "      <td>5</td>\n",
       "    </tr>\n",
       "    <tr>\n",
       "      <th>1</th>\n",
       "      <td>Novotel Bangkok Platinum Pratunam</td>\n",
       "      <td>May 2017</td>\n",
       "      <td>Simply Superb</td>\n",
       "      <td>Well this is one of the best hotels we have st...</td>\n",
       "      <td>5</td>\n",
       "    </tr>\n",
       "    <tr>\n",
       "      <th>2</th>\n",
       "      <td>Novotel Melbourne on Collins</td>\n",
       "      <td>August 2012</td>\n",
       "      <td>Very good for a Novotel</td>\n",
       "      <td>Rooms recently refurbished and very comfortabl...</td>\n",
       "      <td>4</td>\n",
       "    </tr>\n",
       "    <tr>\n",
       "      <th>3</th>\n",
       "      <td>Novotel Milan Nord Ca Granda</td>\n",
       "      <td>October 2018</td>\n",
       "      <td>Milan tourist hotel</td>\n",
       "      <td>Ok hotel in the north of the City. Good for me...</td>\n",
       "      <td>4</td>\n",
       "    </tr>\n",
       "    <tr>\n",
       "      <th>4</th>\n",
       "      <td>Novotel Melbourne on Collins</td>\n",
       "      <td>January 2016</td>\n",
       "      <td>Great location</td>\n",
       "      <td>The hotel is still under renovation.  And it w...</td>\n",
       "      <td>4</td>\n",
       "    </tr>\n",
       "  </tbody>\n",
       "</table>\n",
       "</div>"
      ],
      "text/plain": [
       "                          hotel_name      trip_date  \\\n",
       "0                   Novotel Canberra      June 2015   \n",
       "1  Novotel Bangkok Platinum Pratunam       May 2017   \n",
       "2       Novotel Melbourne on Collins    August 2012   \n",
       "3       Novotel Milan Nord Ca Granda   October 2018   \n",
       "4       Novotel Melbourne on Collins   January 2016   \n",
       "\n",
       "                        title  \\\n",
       "0  A great choice in Canberra   \n",
       "1               Simply Superb   \n",
       "2     Very good for a Novotel   \n",
       "3         Milan tourist hotel   \n",
       "4             Great location    \n",
       "\n",
       "                                              review  rating  \n",
       "0  A central, clean, modern hotel with great serv...       5  \n",
       "1  Well this is one of the best hotels we have st...       5  \n",
       "2  Rooms recently refurbished and very comfortabl...       4  \n",
       "3  Ok hotel in the north of the City. Good for me...       4  \n",
       "4  The hotel is still under renovation.  And it w...       4  "
      ]
     },
     "execution_count": 60,
     "metadata": {},
     "output_type": "execute_result"
    }
   ],
   "source": [
    "data = pd.read_csv('prediction_challenge_practice_with_rating.csv', engine='python')\n",
    "data.head()"
   ]
  },
  {
   "cell_type": "code",
   "execution_count": 33,
   "metadata": {},
   "outputs": [
    {
     "name": "stdout",
     "output_type": "stream",
     "text": [
      "(117514, 5)\n",
      "Are there NA's? True\n",
      "Number of replicates: 3227\n"
     ]
    }
   ],
   "source": [
    "data.head()\n",
    "print(data.shape)\n",
    "#check for Nas:\n",
    "print(\"Are there NA's?\",data.isnull().values.any())\n",
    "print('Number of replicates:',len(data) - data.review.nunique())"
   ]
  },
  {
   "cell_type": "markdown",
   "metadata": {},
   "source": [
    "So we've got 117514 rows and 4 features to start with. As I see this now, there's possibly two ways e could proceed. Either use a Naïve bayes classifier on the comments themselces, integrating one way or another the title, hotel name and trip data alltogether for each review. Or we could consider extracting features directly from each (year, name of the hotel etc.. ) and apply a tree algorithm (XGBOOST) to get our prediction."
   ]
  },
  {
   "cell_type": "markdown",
   "metadata": {},
   "source": [
    "Let's look into detail of the data:"
   ]
  },
  {
   "cell_type": "markdown",
   "metadata": {},
   "source": [
    "#### 1.1.1 Overall ratings"
   ]
  },
  {
   "cell_type": "code",
   "execution_count": 34,
   "metadata": {},
   "outputs": [
    {
     "data": {
      "text/plain": [
       "<matplotlib.axes._subplots.AxesSubplot at 0x1a7fa71898>"
      ]
     },
     "execution_count": 34,
     "metadata": {},
     "output_type": "execute_result"
    },
    {
     "data": {
      "image/png": "[encoded data removed]",
      "text/plain": [
       "<Figure size 432x288 with 1 Axes>"
      ]
     },
     "metadata": {
      "needs_background": "light"
     },
     "output_type": "display_data"
    }
   ],
   "source": [
    "sns.countplot(x=\"rating\",data=data)"
   ]
  },
  {
   "cell_type": "markdown",
   "metadata": {},
   "source": [
    "There's a vast majority of high ratings in our data, pretty good for Novotel. Let's try to get some details on the bad reviews. "
   ]
  },
  {
   "cell_type": "code",
   "execution_count": 35,
   "metadata": {},
   "outputs": [
    {
     "data": {
      "text/html": [
       "<div>\n",
       "<style scoped>\n",
       "    .dataframe tbody tr th:only-of-type {\n",
       "        vertical-align: middle;\n",
       "    }\n",
       "\n",
       "    .dataframe tbody tr th {\n",
       "        vertical-align: top;\n",
       "    }\n",
       "\n",
       "    .dataframe thead th {\n",
       "        text-align: right;\n",
       "    }\n",
       "</style>\n",
       "<table border=\"1\" class=\"dataframe\">\n",
       "  <thead>\n",
       "    <tr style=\"text-align: right;\">\n",
       "      <th></th>\n",
       "      <th>hotel_name</th>\n",
       "      <th>trip_date</th>\n",
       "      <th>title</th>\n",
       "      <th>review</th>\n",
       "      <th>rating</th>\n",
       "    </tr>\n",
       "  </thead>\n",
       "  <tbody>\n",
       "    <tr>\n",
       "      <th>0</th>\n",
       "      <td>Novotel Canberra</td>\n",
       "      <td>June 2015</td>\n",
       "      <td>A great choice in Canberra</td>\n",
       "      <td>A central, clean, modern hotel with great serv...</td>\n",
       "      <td>5</td>\n",
       "    </tr>\n",
       "    <tr>\n",
       "      <th>1</th>\n",
       "      <td>Novotel Bangkok Platinum Pratunam</td>\n",
       "      <td>May 2017</td>\n",
       "      <td>Simply Superb</td>\n",
       "      <td>Well this is one of the best hotels we have st...</td>\n",
       "      <td>5</td>\n",
       "    </tr>\n",
       "    <tr>\n",
       "      <th>2</th>\n",
       "      <td>Novotel Melbourne on Collins</td>\n",
       "      <td>August 2012</td>\n",
       "      <td>Very good for a Novotel</td>\n",
       "      <td>Rooms recently refurbished and very comfortabl...</td>\n",
       "      <td>4</td>\n",
       "    </tr>\n",
       "    <tr>\n",
       "      <th>3</th>\n",
       "      <td>Novotel Milan Nord Ca Granda</td>\n",
       "      <td>October 2018</td>\n",
       "      <td>Milan tourist hotel</td>\n",
       "      <td>Ok hotel in the north of the City. Good for me...</td>\n",
       "      <td>4</td>\n",
       "    </tr>\n",
       "    <tr>\n",
       "      <th>4</th>\n",
       "      <td>Novotel Melbourne on Collins</td>\n",
       "      <td>January 2016</td>\n",
       "      <td>Great location</td>\n",
       "      <td>The hotel is still under renovation.  And it w...</td>\n",
       "      <td>4</td>\n",
       "    </tr>\n",
       "  </tbody>\n",
       "</table>\n",
       "</div>"
      ],
      "text/plain": [
       "                          hotel_name      trip_date  \\\n",
       "0                   Novotel Canberra      June 2015   \n",
       "1  Novotel Bangkok Platinum Pratunam       May 2017   \n",
       "2       Novotel Melbourne on Collins    August 2012   \n",
       "3       Novotel Milan Nord Ca Granda   October 2018   \n",
       "4       Novotel Melbourne on Collins   January 2016   \n",
       "\n",
       "                        title  \\\n",
       "0  A great choice in Canberra   \n",
       "1               Simply Superb   \n",
       "2     Very good for a Novotel   \n",
       "3         Milan tourist hotel   \n",
       "4             Great location    \n",
       "\n",
       "                                              review  rating  \n",
       "0  A central, clean, modern hotel with great serv...       5  \n",
       "1  Well this is one of the best hotels we have st...       5  \n",
       "2  Rooms recently refurbished and very comfortabl...       4  \n",
       "3  Ok hotel in the north of the City. Good for me...       4  \n",
       "4  The hotel is still under renovation.  And it w...       4  "
      ]
     },
     "execution_count": 35,
     "metadata": {},
     "output_type": "execute_result"
    }
   ],
   "source": [
    "data.head()"
   ]
  },
  {
   "cell_type": "code",
   "execution_count": 36,
   "metadata": {},
   "outputs": [
    {
     "name": "stdout",
     "output_type": "stream",
     "text": [
      "max amount of replicates : 2\n"
     ]
    }
   ],
   "source": [
    "data.set_index(['rating','review'],inplace=True)\n",
    "\n",
    "#group by and get a count column:\n",
    "data2 = pd.DataFrame(data.groupby(['rating','review']).size())\n",
    "data2.reset_index(inplace=True)\n",
    "data2.columns=['rating','review',\"count\"]\n",
    "print(\"max amount of replicates :\",data2['count'].max())\n",
    "\n",
    "#reset the index for the main data frame:\n",
    "data.reset_index(inplace=True)"
   ]
  },
  {
   "cell_type": "markdown",
   "metadata": {},
   "source": [
    "The max amount of replicates is 2, let's try to see if there's any rating for which this might be more frequent:"
   ]
  },
  {
   "cell_type": "code",
   "execution_count": 37,
   "metadata": {},
   "outputs": [
    {
     "data": {
      "image/png": "[encoded data removed]",
      "text/plain": [
       "<Figure size 432x288 with 1 Axes>"
      ]
     },
     "metadata": {
      "needs_background": "light"
     },
     "output_type": "display_data"
    }
   ],
   "source": [
    "# isolating replicas\n",
    "i = data2.iloc[:,2] > 1\n",
    "data2 = data2[i]\n",
    "\n",
    "#generate count plot:\n",
    "sns.countplot(x=\"count\",hue=\"rating\",data=data2)\n",
    "plt.title('count reviews that appear more than once per rating')\n",
    "plt.show()"
   ]
  },
  {
   "cell_type": "markdown",
   "metadata": {},
   "source": [
    "Seems to be higher for higher rankings, although this might purely be due to the fact there's more higher rating reviews."
   ]
  },
  {
   "cell_type": "markdown",
   "metadata": {},
   "source": [
    "#### 1.1.2 Length of reviews"
   ]
  },
  {
   "cell_type": "markdown",
   "metadata": {},
   "source": [
    "Let's have a look at how the length of of the reviews are distributed accross the ratings:"
   ]
  },
  {
   "cell_type": "code",
   "execution_count": 38,
   "metadata": {},
   "outputs": [
    {
     "name": "stderr",
     "output_type": "stream",
     "text": [
      "/Users/laks/anaconda3/lib/python3.6/site-packages/scipy/stats/stats.py:1713: FutureWarning: Using a non-tuple sequence for multidimensional indexing is deprecated; use `arr[tuple(seq)]` instead of `arr[seq]`. In the future this will be interpreted as an array index, `arr[np.array(seq)]`, which will result either in an error or a different result.\n",
      "  return np.add.reduce(sorted[indexer] * weights, axis=axis) / sumval\n"
     ]
    },
    {
     "data": {
      "image/png": "[encoded data removed]",
      "text/plain": [
       "<Figure size 432x288 with 1 Axes>"
      ]
     },
     "metadata": {
      "needs_background": "light"
     },
     "output_type": "display_data"
    },
    {
     "data": {
      "image/png": "[encoded data removed]",
      "text/plain": [
       "<Figure size 432x288 with 1 Axes>"
      ]
     },
     "metadata": {
      "needs_background": "light"
     },
     "output_type": "display_data"
    }
   ],
   "source": [
    "# Overall length\n",
    "sns.distplot(data['review'].apply(len))\n",
    "plt.title('Characters distributions for whole data set')\n",
    "plt.show()\n",
    "\n",
    "#spam:\n",
    "r1 = data.loc[:,\"rating\"]==1\n",
    "data_r1=data[r1]\n",
    "sns.distplot(data_r1['review'].apply(len),label=\"Ratinf = 1\")\n",
    "\n",
    "r2 = data.loc[:,\"rating\"]==2\n",
    "data_r2=data[r2]\n",
    "sns.distplot(data_r2['review'].apply(len),label=\"Ratinf = 2\")\n",
    "\n",
    "r3 = data.loc[:,\"rating\"]==3\n",
    "data_r3=data[r3]\n",
    "sns.distplot(data_r3['review'].apply(len),label=\"Ratinf = 3\")\n",
    "\n",
    "r4 = data.loc[:,\"rating\"]==4\n",
    "data_r4=data[r4]\n",
    "sns.distplot(data_r4['review'].apply(len),label=\"Ratinf = 4\")\n",
    "\n",
    "r5 = data.loc[:,\"rating\"]==5\n",
    "data_r5=data[r5]\n",
    "ax = sns.distplot(data_r5['review'].apply(len),label=\"Ratinf = 5\")\n",
    "\n",
    "plt.legend()\n",
    "plt.title('Length of reviews accross ratings')\n",
    "ax.set(xlabel='Number of characters', ylabel='Frequency')\n",
    "plt.show()"
   ]
  },
  {
   "cell_type": "markdown",
   "metadata": {},
   "source": [
    "No distinguishing distributions, all the same length approximatetly"
   ]
  },
  {
   "cell_type": "code",
   "execution_count": null,
   "metadata": {},
   "outputs": [],
   "source": []
  },
  {
   "cell_type": "code",
   "execution_count": null,
   "metadata": {},
   "outputs": [],
   "source": []
  },
  {
   "cell_type": "code",
   "execution_count": null,
   "metadata": {},
   "outputs": [],
   "source": []
  },
  {
   "cell_type": "code",
   "execution_count": null,
   "metadata": {},
   "outputs": [],
   "source": []
  },
  {
   "cell_type": "code",
   "execution_count": 92,
   "metadata": {},
   "outputs": [
    {
     "data": {
      "text/html": [
       "<div>\n",
       "<style scoped>\n",
       "    .dataframe tbody tr th:only-of-type {\n",
       "        vertical-align: middle;\n",
       "    }\n",
       "\n",
       "    .dataframe tbody tr th {\n",
       "        vertical-align: top;\n",
       "    }\n",
       "\n",
       "    .dataframe thead th {\n",
       "        text-align: right;\n",
       "    }\n",
       "</style>\n",
       "<table border=\"1\" class=\"dataframe\">\n",
       "  <thead>\n",
       "    <tr style=\"text-align: right;\">\n",
       "      <th></th>\n",
       "      <th>hotel_name</th>\n",
       "      <th>trip_date</th>\n",
       "      <th>title</th>\n",
       "      <th>review</th>\n",
       "      <th>rating</th>\n",
       "      <th>clean</th>\n",
       "      <th>clean_tokens</th>\n",
       "    </tr>\n",
       "  </thead>\n",
       "  <tbody>\n",
       "    <tr>\n",
       "      <th>0</th>\n",
       "      <td>Novotel Canberra</td>\n",
       "      <td>June 2015</td>\n",
       "      <td>A great choice in Canberra</td>\n",
       "      <td>A central, clean, modern hotel with great serv...</td>\n",
       "      <td>5</td>\n",
       "      <td>[central, clean, modern, great, service, welco...</td>\n",
       "      <td>[central, clean, modern, great, service, welco...</td>\n",
       "    </tr>\n",
       "    <tr>\n",
       "      <th>1</th>\n",
       "      <td>Novotel Bangkok Platinum Pratunam</td>\n",
       "      <td>May 2017</td>\n",
       "      <td>Simply Superb</td>\n",
       "      <td>Well this is one of the best hotels we have st...</td>\n",
       "      <td>5</td>\n",
       "      <td>[well, best, hotels, stayed, everything, great...</td>\n",
       "      <td>[well, best, hotels, stayed, everything, great...</td>\n",
       "    </tr>\n",
       "    <tr>\n",
       "      <th>2</th>\n",
       "      <td>Novotel Melbourne on Collins</td>\n",
       "      <td>August 2012</td>\n",
       "      <td>Very good for a Novotel</td>\n",
       "      <td>Rooms recently refurbished and very comfortabl...</td>\n",
       "      <td>4</td>\n",
       "      <td>[rooms, recently, refurbished, comfortable, cl...</td>\n",
       "      <td>[rooms, recently, refurbished, comfortable, cl...</td>\n",
       "    </tr>\n",
       "    <tr>\n",
       "      <th>3</th>\n",
       "      <td>Novotel Milan Nord Ca Granda</td>\n",
       "      <td>October 2018</td>\n",
       "      <td>Milan tourist hotel</td>\n",
       "      <td>Ok hotel in the north of the City. Good for me...</td>\n",
       "      <td>4</td>\n",
       "      <td>[north, city, good, metro, bus, tram, links,  ...</td>\n",
       "      <td>[north, city, good, metro, bus, tram, links, m...</td>\n",
       "    </tr>\n",
       "    <tr>\n",
       "      <th>4</th>\n",
       "      <td>Novotel Melbourne on Collins</td>\n",
       "      <td>January 2016</td>\n",
       "      <td>Great location</td>\n",
       "      <td>The hotel is still under renovation.  And it w...</td>\n",
       "      <td>4</td>\n",
       "      <td>[still, renovation, quite, time, they\\,  re, b...</td>\n",
       "      <td>[still, renovation, quite, time, they\\, re, bu...</td>\n",
       "    </tr>\n",
       "  </tbody>\n",
       "</table>\n",
       "</div>"
      ],
      "text/plain": [
       "                          hotel_name      trip_date  \\\n",
       "0                   Novotel Canberra      June 2015   \n",
       "1  Novotel Bangkok Platinum Pratunam       May 2017   \n",
       "2       Novotel Melbourne on Collins    August 2012   \n",
       "3       Novotel Milan Nord Ca Granda   October 2018   \n",
       "4       Novotel Melbourne on Collins   January 2016   \n",
       "\n",
       "                        title  \\\n",
       "0  A great choice in Canberra   \n",
       "1               Simply Superb   \n",
       "2     Very good for a Novotel   \n",
       "3         Milan tourist hotel   \n",
       "4             Great location    \n",
       "\n",
       "                                              review  rating  \\\n",
       "0  A central, clean, modern hotel with great serv...       5   \n",
       "1  Well this is one of the best hotels we have st...       5   \n",
       "2  Rooms recently refurbished and very comfortabl...       4   \n",
       "3  Ok hotel in the north of the City. Good for me...       4   \n",
       "4  The hotel is still under renovation.  And it w...       4   \n",
       "\n",
       "                                               clean  \\\n",
       "0  [central, clean, modern, great, service, welco...   \n",
       "1  [well, best, hotels, stayed, everything, great...   \n",
       "2  [rooms, recently, refurbished, comfortable, cl...   \n",
       "3  [north, city, good, metro, bus, tram, links,  ...   \n",
       "4  [still, renovation, quite, time, they\\,  re, b...   \n",
       "\n",
       "                                        clean_tokens  \n",
       "0  [central, clean, modern, great, service, welco...  \n",
       "1  [well, best, hotels, stayed, everything, great...  \n",
       "2  [rooms, recently, refurbished, comfortable, cl...  \n",
       "3  [north, city, good, metro, bus, tram, links, m...  \n",
       "4  [still, renovation, quite, time, they\\, re, bu...  "
      ]
     },
     "execution_count": 92,
     "metadata": {},
     "output_type": "execute_result"
    }
   ],
   "source": [
    "data.head()"
   ]
  },
  {
   "cell_type": "code",
   "execution_count": 61,
   "metadata": {},
   "outputs": [],
   "source": [
    "data['try'] = data['review'] + \" \" + data['title'] + \" \" + data['trip_date'] + \" \" + data['hotel_name']"
   ]
  },
  {
   "cell_type": "code",
   "execution_count": 62,
   "metadata": {},
   "outputs": [
    {
     "data": {
      "text/plain": [
       "'A central, clean, modern hotel with great service, a welcoming Team (thank you JJ)The gym is small but fully equipped and the pool is excellent. A love a hotel that has a separate shower and no shower curtain-tick-the shower is huge and ceiling to floor modern tiles and glass!!a Big comfortable bed and lots of pillows-YES!!THnakyou team for a great stay in Canberrra A great choice in Canberra  June 2015 Novotel Canberra'"
      ]
     },
     "execution_count": 62,
     "metadata": {},
     "output_type": "execute_result"
    }
   ],
   "source": [
    "data['try'][0]"
   ]
  },
  {
   "cell_type": "markdown",
   "metadata": {},
   "source": [
    "### Insights on words"
   ]
  },
  {
   "cell_type": "code",
   "execution_count": 63,
   "metadata": {},
   "outputs": [],
   "source": [
    "stopW = stopwords.words('english')\n",
    "stopW = stopW + ['hotel','room','would','one','also','staff','stay','novotel','service','told']\n",
    "special_characters = [\"@\", \"/\", \"#\", \".\", \",\", \"!\", \"?\", \"(\", \")\",\n",
    "                      \"-\", \"_\",\"’\",\"'\", \"\\\"\", \":\",\"=\",\"+\",\"&\"\n",
    "                      ,\"`\",\"*\",\"0\",\"1\",\"2\",\"3\",\"4\",\"5\",\n",
    "                      \"6\",\"7\",\"8\",\"9\",\"'\",'.','‘',';']\n",
    "transformation_sc_dict = {initial:\" \" for initial in special_characters}\n",
    "\n",
    "def preprocessing(sms):\n",
    "  \n",
    "    # Tokenization\n",
    "    tokens = word_tokenize(sms)\n",
    "    \n",
    "    # Deleting words with  only one caracter\n",
    "    tokens = [token for token in tokens if len(token)>2]\n",
    "    \n",
    "    # stopwords + lowercase\n",
    "    tokens = [token.lower() for token in tokens if token.lower() not in stopW]   \n",
    "    \n",
    "    # Deleting specific characters\n",
    "    tokens = [token.translate(str.maketrans(transformation_sc_dict)) for token in tokens]\n",
    "        \n",
    "    return tokens"
   ]
  },
  {
   "cell_type": "code",
   "execution_count": 42,
   "metadata": {},
   "outputs": [
    {
     "data": {
      "text/html": [
       "<div>\n",
       "<style scoped>\n",
       "    .dataframe tbody tr th:only-of-type {\n",
       "        vertical-align: middle;\n",
       "    }\n",
       "\n",
       "    .dataframe tbody tr th {\n",
       "        vertical-align: top;\n",
       "    }\n",
       "\n",
       "    .dataframe thead th {\n",
       "        text-align: right;\n",
       "    }\n",
       "</style>\n",
       "<table border=\"1\" class=\"dataframe\">\n",
       "  <thead>\n",
       "    <tr style=\"text-align: right;\">\n",
       "      <th></th>\n",
       "      <th>rating</th>\n",
       "      <th>review</th>\n",
       "      <th>hotel_name</th>\n",
       "      <th>trip_date</th>\n",
       "      <th>title</th>\n",
       "      <th>try</th>\n",
       "      <th>clean</th>\n",
       "    </tr>\n",
       "  </thead>\n",
       "  <tbody>\n",
       "    <tr>\n",
       "      <th>0</th>\n",
       "      <td>5</td>\n",
       "      <td>A central, clean, modern hotel with great serv...</td>\n",
       "      <td>Novotel Canberra</td>\n",
       "      <td>June 2015</td>\n",
       "      <td>A great choice in Canberra</td>\n",
       "      <td>A central, clean, modern hotel with great serv...</td>\n",
       "      <td>[central, clean, modern, great, welcoming, tea...</td>\n",
       "    </tr>\n",
       "    <tr>\n",
       "      <th>1</th>\n",
       "      <td>5</td>\n",
       "      <td>Well this is one of the best hotels we have st...</td>\n",
       "      <td>Novotel Bangkok Platinum Pratunam</td>\n",
       "      <td>May 2017</td>\n",
       "      <td>Simply Superb</td>\n",
       "      <td>Well this is one of the best hotels we have st...</td>\n",
       "      <td>[well, best, hotels, stayed, everything, great...</td>\n",
       "    </tr>\n",
       "    <tr>\n",
       "      <th>2</th>\n",
       "      <td>4</td>\n",
       "      <td>Rooms recently refurbished and very comfortabl...</td>\n",
       "      <td>Novotel Melbourne on Collins</td>\n",
       "      <td>August 2012</td>\n",
       "      <td>Very good for a Novotel</td>\n",
       "      <td>Rooms recently refurbished and very comfortabl...</td>\n",
       "      <td>[rooms, recently, refurbished, comfortable, cl...</td>\n",
       "    </tr>\n",
       "    <tr>\n",
       "      <th>3</th>\n",
       "      <td>4</td>\n",
       "      <td>Ok hotel in the north of the City. Good for me...</td>\n",
       "      <td>Novotel Milan Nord Ca Granda</td>\n",
       "      <td>October 2018</td>\n",
       "      <td>Milan tourist hotel</td>\n",
       "      <td>Ok hotel in the north of the City. Good for me...</td>\n",
       "      <td>[north, city, good, metro, bus, tram, links,  ...</td>\n",
       "    </tr>\n",
       "    <tr>\n",
       "      <th>4</th>\n",
       "      <td>4</td>\n",
       "      <td>The hotel is still under renovation.  And it w...</td>\n",
       "      <td>Novotel Melbourne on Collins</td>\n",
       "      <td>January 2016</td>\n",
       "      <td>Great location</td>\n",
       "      <td>The hotel is still under renovation.  And it w...</td>\n",
       "      <td>[still, renovation, quite, time, they\\,  re, b...</td>\n",
       "    </tr>\n",
       "  </tbody>\n",
       "</table>\n",
       "</div>"
      ],
      "text/plain": [
       "   rating                                             review  \\\n",
       "0       5  A central, clean, modern hotel with great serv...   \n",
       "1       5  Well this is one of the best hotels we have st...   \n",
       "2       4  Rooms recently refurbished and very comfortabl...   \n",
       "3       4  Ok hotel in the north of the City. Good for me...   \n",
       "4       4  The hotel is still under renovation.  And it w...   \n",
       "\n",
       "                          hotel_name      trip_date  \\\n",
       "0                   Novotel Canberra      June 2015   \n",
       "1  Novotel Bangkok Platinum Pratunam       May 2017   \n",
       "2       Novotel Melbourne on Collins    August 2012   \n",
       "3       Novotel Milan Nord Ca Granda   October 2018   \n",
       "4       Novotel Melbourne on Collins   January 2016   \n",
       "\n",
       "                        title  \\\n",
       "0  A great choice in Canberra   \n",
       "1               Simply Superb   \n",
       "2     Very good for a Novotel   \n",
       "3         Milan tourist hotel   \n",
       "4             Great location    \n",
       "\n",
       "                                                 try  \\\n",
       "0  A central, clean, modern hotel with great serv...   \n",
       "1  Well this is one of the best hotels we have st...   \n",
       "2  Rooms recently refurbished and very comfortabl...   \n",
       "3  Ok hotel in the north of the City. Good for me...   \n",
       "4  The hotel is still under renovation.  And it w...   \n",
       "\n",
       "                                               clean  \n",
       "0  [central, clean, modern, great, welcoming, tea...  \n",
       "1  [well, best, hotels, stayed, everything, great...  \n",
       "2  [rooms, recently, refurbished, comfortable, cl...  \n",
       "3  [north, city, good, metro, bus, tram, links,  ...  \n",
       "4  [still, renovation, quite, time, they\\,  re, b...  "
      ]
     },
     "execution_count": 42,
     "metadata": {},
     "output_type": "execute_result"
    }
   ],
   "source": [
    "# Creating a new column swith tokenized reviews\n",
    "data['clean'] = data['review'].apply(preprocessing)\n",
    "data.head()"
   ]
  },
  {
   "cell_type": "code",
   "execution_count": 43,
   "metadata": {},
   "outputs": [],
   "source": [
    "# creating a list with all reviews and more pre-processing\n",
    "tokens = data.clean.tolist()\n",
    "tokens = [[text.strip() for text in token] for token in tokens]\n",
    "clean_tokens = [[word for word in token if word != ''] for token in tokens]\n",
    "data['clean_tokens'] = clean_tokens"
   ]
  },
  {
   "cell_type": "code",
   "execution_count": 62,
   "metadata": {},
   "outputs": [
    {
     "data": {
      "image/png": "[encoded data removed]",
      "text/plain": [
       "<Figure size 432x288 with 1 Axes>"
      ]
     },
     "metadata": {
      "needs_background": "light"
     },
     "output_type": "display_data"
    },
    {
     "name": "stdout",
     "output_type": "stream",
     "text": [
      "6401061\n"
     ]
    }
   ],
   "source": [
    "def plot_frequent_words(list_of_words):    \n",
    "    dist = nltk.FreqDist(list_of_words)\n",
    "    X = [nb[1] for nb in dist.most_common(20)]\n",
    "    y = [nb[0] for nb in dist.most_common(20)]\n",
    "    ax = sns.barplot(X,y)\n",
    "    ax.set(xlabel='Word frequencies',ylabel='Words',title='Most common words in the corpus')\n",
    "    plt.show()\n",
    "\n",
    "all_words = []\n",
    "for tokens in clean_tokens:\n",
    "    for word in tokens:\n",
    "        all_words.append(word)\n",
    "    \n",
    "plot_frequent_words(all_words)\n",
    "print(len(all_words))"
   ]
  },
  {
   "cell_type": "markdown",
   "metadata": {},
   "source": [
    "Here there's some stopwords we could add. Let's have a look at the main words depending on the rating before re-arranging our pre-processing!"
   ]
  },
  {
   "cell_type": "markdown",
   "metadata": {},
   "source": [
    "#### For rating = 1"
   ]
  },
  {
   "cell_type": "code",
   "execution_count": 69,
   "metadata": {},
   "outputs": [
    {
     "name": "stderr",
     "output_type": "stream",
     "text": [
      "/Users/laks/anaconda3/lib/python3.6/site-packages/ipykernel_launcher.py:4: SettingWithCopyWarning: \n",
      "A value is trying to be set on a copy of a slice from a DataFrame.\n",
      "Try using .loc[row_indexer,col_indexer] = value instead\n",
      "\n",
      "See the caveats in the documentation: http://pandas.pydata.org/pandas-docs/stable/indexing.html#indexing-view-versus-copy\n",
      "  after removing the cwd from sys.path.\n",
      "/Users/laks/anaconda3/lib/python3.6/site-packages/ipykernel_launcher.py:9: SettingWithCopyWarning: \n",
      "A value is trying to be set on a copy of a slice from a DataFrame.\n",
      "Try using .loc[row_indexer,col_indexer] = value instead\n",
      "\n",
      "See the caveats in the documentation: http://pandas.pydata.org/pandas-docs/stable/indexing.html#indexing-view-versus-copy\n",
      "  if __name__ == '__main__':\n"
     ]
    }
   ],
   "source": [
    "r1 = data.loc[:,\"rating\"]==1\n",
    "data_r1=data[r1]\n",
    "\n",
    "data_r1['clean'] = data_r1['review'].apply(preprocessing)\n",
    "# creating a list with all reviews and more pre-processing\n",
    "tokens_r1 = data_r1.clean.tolist()\n",
    "tokens_r1 = [[text.strip() for text in token] for token in tokens_r1]\n",
    "clean_tokens_r1 = [[word for word in token if word != ''] for token in tokens_r1]\n",
    "data_r1['clean_tokens'] = clean_tokens_r1\n",
    "\n",
    "all_words_r1 = []\n",
    "for tokens in clean_tokens_r1:\n",
    "    for word in tokens:\n",
    "        all_words_r1.append(word)"
   ]
  },
  {
   "cell_type": "markdown",
   "metadata": {},
   "source": [
    "#### For rating = 2"
   ]
  },
  {
   "cell_type": "code",
   "execution_count": 45,
   "metadata": {},
   "outputs": [
    {
     "name": "stderr",
     "output_type": "stream",
     "text": [
      "/Users/laks/anaconda3/lib/python3.6/site-packages/ipykernel_launcher.py:4: SettingWithCopyWarning: \n",
      "A value is trying to be set on a copy of a slice from a DataFrame.\n",
      "Try using .loc[row_indexer,col_indexer] = value instead\n",
      "\n",
      "See the caveats in the documentation: http://pandas.pydata.org/pandas-docs/stable/indexing.html#indexing-view-versus-copy\n",
      "  after removing the cwd from sys.path.\n",
      "/Users/laks/anaconda3/lib/python3.6/site-packages/ipykernel_launcher.py:9: SettingWithCopyWarning: \n",
      "A value is trying to be set on a copy of a slice from a DataFrame.\n",
      "Try using .loc[row_indexer,col_indexer] = value instead\n",
      "\n",
      "See the caveats in the documentation: http://pandas.pydata.org/pandas-docs/stable/indexing.html#indexing-view-versus-copy\n",
      "  if __name__ == '__main__':\n"
     ]
    }
   ],
   "source": [
    "r2 = data.loc[:,\"rating\"]==2\n",
    "data_r2=data[r2]\n",
    "\n",
    "data_r2['clean'] = data_r2['review'].apply(preprocessing)\n",
    "# creating a list with all reviews and more pre-processing\n",
    "tokens_r2 = data_r2.clean.tolist()\n",
    "tokens_r2 = [[text.strip() for text in token] for token in tokens_r2]\n",
    "clean_tokens_r2 = [[word for word in token if word != ''] for token in tokens_r2]\n",
    "data_r2['clean_tokens'] = clean_tokens_r2\n",
    "\n",
    "all_words_r2 = []\n",
    "for tokens in clean_tokens_r2:\n",
    "    for word in tokens:\n",
    "        all_words_r2.append(word) "
   ]
  },
  {
   "cell_type": "markdown",
   "metadata": {},
   "source": [
    "#### For rating = 3"
   ]
  },
  {
   "cell_type": "code",
   "execution_count": 46,
   "metadata": {},
   "outputs": [
    {
     "name": "stderr",
     "output_type": "stream",
     "text": [
      "/Users/laks/anaconda3/lib/python3.6/site-packages/ipykernel_launcher.py:4: SettingWithCopyWarning: \n",
      "A value is trying to be set on a copy of a slice from a DataFrame.\n",
      "Try using .loc[row_indexer,col_indexer] = value instead\n",
      "\n",
      "See the caveats in the documentation: http://pandas.pydata.org/pandas-docs/stable/indexing.html#indexing-view-versus-copy\n",
      "  after removing the cwd from sys.path.\n",
      "/Users/laks/anaconda3/lib/python3.6/site-packages/ipykernel_launcher.py:9: SettingWithCopyWarning: \n",
      "A value is trying to be set on a copy of a slice from a DataFrame.\n",
      "Try using .loc[row_indexer,col_indexer] = value instead\n",
      "\n",
      "See the caveats in the documentation: http://pandas.pydata.org/pandas-docs/stable/indexing.html#indexing-view-versus-copy\n",
      "  if __name__ == '__main__':\n"
     ]
    }
   ],
   "source": [
    "r3 = data.loc[:,\"rating\"]==3\n",
    "data_r3=data[r3]\n",
    "\n",
    "data_r3['clean'] = data_r3['review'].apply(preprocessing)\n",
    "# creating a list with all reviews and more pre-processing\n",
    "tokens_r3 = data_r3.clean.tolist()\n",
    "tokens_r3 = [[text.strip() for text in token] for token in tokens_r3]\n",
    "clean_tokens_r3 = [[word for word in token if word != ''] for token in tokens_r3]\n",
    "data_r3['clean_tokens'] = clean_tokens_r3\n",
    "\n",
    "all_words_r3 = []\n",
    "for tokens in clean_tokens_r3:\n",
    "    for word in tokens:\n",
    "        all_words_r3.append(word)"
   ]
  },
  {
   "cell_type": "markdown",
   "metadata": {},
   "source": [
    "#### For rating = 4"
   ]
  },
  {
   "cell_type": "code",
   "execution_count": 47,
   "metadata": {},
   "outputs": [
    {
     "name": "stderr",
     "output_type": "stream",
     "text": [
      "/Users/laks/anaconda3/lib/python3.6/site-packages/ipykernel_launcher.py:4: SettingWithCopyWarning: \n",
      "A value is trying to be set on a copy of a slice from a DataFrame.\n",
      "Try using .loc[row_indexer,col_indexer] = value instead\n",
      "\n",
      "See the caveats in the documentation: http://pandas.pydata.org/pandas-docs/stable/indexing.html#indexing-view-versus-copy\n",
      "  after removing the cwd from sys.path.\n",
      "/Users/laks/anaconda3/lib/python3.6/site-packages/ipykernel_launcher.py:9: SettingWithCopyWarning: \n",
      "A value is trying to be set on a copy of a slice from a DataFrame.\n",
      "Try using .loc[row_indexer,col_indexer] = value instead\n",
      "\n",
      "See the caveats in the documentation: http://pandas.pydata.org/pandas-docs/stable/indexing.html#indexing-view-versus-copy\n",
      "  if __name__ == '__main__':\n"
     ]
    }
   ],
   "source": [
    "r4 = data.loc[:,\"rating\"]==4\n",
    "data_r4=data[r4]\n",
    "\n",
    "data_r4['clean'] = data_r4['review'].apply(preprocessing)\n",
    "# creating a list with all reviews and more pre-processing\n",
    "tokens_r4 = data_r4.clean.tolist()\n",
    "tokens_r4 = [[text.strip() for text in token] for token in tokens_r4]\n",
    "clean_tokens_r4 = [[word for word in token if word != ''] for token in tokens_r4]\n",
    "data_r4['clean_tokens'] = clean_tokens_r4\n",
    "\n",
    "all_words_r4 = []\n",
    "for tokens in clean_tokens_r4:\n",
    "    for word in tokens:\n",
    "        all_words_r4.append(word)"
   ]
  },
  {
   "cell_type": "markdown",
   "metadata": {},
   "source": [
    "#### For rating = 5"
   ]
  },
  {
   "cell_type": "code",
   "execution_count": 48,
   "metadata": {},
   "outputs": [
    {
     "name": "stderr",
     "output_type": "stream",
     "text": [
      "/Users/laks/anaconda3/lib/python3.6/site-packages/ipykernel_launcher.py:4: SettingWithCopyWarning: \n",
      "A value is trying to be set on a copy of a slice from a DataFrame.\n",
      "Try using .loc[row_indexer,col_indexer] = value instead\n",
      "\n",
      "See the caveats in the documentation: http://pandas.pydata.org/pandas-docs/stable/indexing.html#indexing-view-versus-copy\n",
      "  after removing the cwd from sys.path.\n",
      "/Users/laks/anaconda3/lib/python3.6/site-packages/ipykernel_launcher.py:9: SettingWithCopyWarning: \n",
      "A value is trying to be set on a copy of a slice from a DataFrame.\n",
      "Try using .loc[row_indexer,col_indexer] = value instead\n",
      "\n",
      "See the caveats in the documentation: http://pandas.pydata.org/pandas-docs/stable/indexing.html#indexing-view-versus-copy\n",
      "  if __name__ == '__main__':\n"
     ]
    }
   ],
   "source": [
    "r5 = data.loc[:,\"rating\"]==5\n",
    "data_r5=data[r5]\n",
    "\n",
    "data_r5['clean'] = data_r5['review'].apply(preprocessing)\n",
    "# creating a list with all reviews and more pre-processing\n",
    "tokens_r5 = data_r5.clean.tolist()\n",
    "tokens_r5 = [[text.strip() for text in token] for token in tokens_r5]\n",
    "clean_tokens_r5 = [[word for word in token if word != ''] for token in tokens_r5]\n",
    "data_r5['clean_tokens'] = clean_tokens_r5\n",
    "\n",
    "all_words_r5 = []\n",
    "for tokens in clean_tokens_r5:\n",
    "    for word in tokens:\n",
    "        all_words_r5.append(word)"
   ]
  },
  {
   "cell_type": "markdown",
   "metadata": {},
   "source": [
    "Visualizing most frequent words according to rating:"
   ]
  },
  {
   "cell_type": "code",
   "execution_count": 91,
   "metadata": {},
   "outputs": [
    {
     "data": {
      "image/png": "[encoded data removed]",
      "text/plain": [
       "<Figure size 432x288 with 1 Axes>"
      ]
     },
     "metadata": {
      "needs_background": "light"
     },
     "output_type": "display_data"
    },
    {
     "name": "stdout",
     "output_type": "stream",
     "text": [
      "276676\n"
     ]
    },
    {
     "data": {
      "image/png": "[encoded data removed]",
      "text/plain": [
       "<Figure size 432x288 with 1 Axes>"
      ]
     },
     "metadata": {
      "needs_background": "light"
     },
     "output_type": "display_data"
    },
    {
     "name": "stdout",
     "output_type": "stream",
     "text": [
      "426592\n"
     ]
    },
    {
     "data": {
      "image/png": "[encoded data removed]",
      "text/plain": [
       "<Figure size 432x288 with 1 Axes>"
      ]
     },
     "metadata": {
      "needs_background": "light"
     },
     "output_type": "display_data"
    },
    {
     "name": "stdout",
     "output_type": "stream",
     "text": [
      "1102772\n"
     ]
    },
    {
     "data": {
      "image/png": "[encoded data removed]",
      "text/plain": [
       "<Figure size 432x288 with 1 Axes>"
      ]
     },
     "metadata": {
      "needs_background": "light"
     },
     "output_type": "display_data"
    },
    {
     "name": "stdout",
     "output_type": "stream",
     "text": [
      "2340207\n"
     ]
    },
    {
     "data": {
      "image/png": "[encoded data removed]",
      "text/plain": [
       "<Figure size 432x288 with 1 Axes>"
      ]
     },
     "metadata": {
      "needs_background": "light"
     },
     "output_type": "display_data"
    },
    {
     "name": "stdout",
     "output_type": "stream",
     "text": [
      "2029561\n"
     ]
    }
   ],
   "source": [
    "plot_frequent_words(all_words_r1)\n",
    "print(len(all_words_r1))\n",
    "plot_frequent_words(all_words_r2)\n",
    "print(len(all_words_r2))\n",
    "plot_frequent_words(all_words_r3)\n",
    "print(len(all_words_r3))\n",
    "plot_frequent_words(all_words_r4)\n",
    "print(len(all_words_r4))\n",
    "plot_frequent_words(all_words_r5)\n",
    "print(len(all_words_r5))"
   ]
  },
  {
   "cell_type": "markdown",
   "metadata": {},
   "source": [
    "## Manual train/test split before oversampling!"
   ]
  },
  {
   "cell_type": "code",
   "execution_count": 11,
   "metadata": {},
   "outputs": [],
   "source": [
    "msk = np.random.rand(len(data)) < 0.8\n",
    "\n",
    "train = data[msk]\n",
    "\n",
    "test = data[~msk]\n",
    "\n",
    "r5_train = train.loc[:,\"rating\"]==5\n",
    "r5_test = test.loc[:,\"rating\"]==5\n",
    "train_r5=train[r5_train]\n",
    "test_r5=test[r5_test]\n",
    "\n",
    "r5_train = train.loc[:,\"rating\"]==5\n",
    "r5_test = test.loc[:,\"rating\"]==5\n",
    "train_r4=train[r5_train]\n",
    "test_r4=test[r5_test]\n",
    "\n",
    "r3_train = train.loc[:,\"rating\"]==3\n",
    "r3_test = test.loc[:,\"rating\"]==3\n",
    "train_r3=train[r3_train]\n",
    "test_r3=test[r3_test]\n",
    "\n",
    "r2_train = train.loc[:,\"rating\"]==2\n",
    "r2_test = test.loc[:,\"rating\"]==2\n",
    "train_r2=train[r2_train]\n",
    "test_r2=test[r2_test]\n",
    "\n",
    "r1_train = train.loc[:,\"rating\"]==1\n",
    "r1_test = test.loc[:,\"rating\"]==1\n",
    "train_r1=train[r1_train]\n",
    "test_r1=test[r1_test]\n",
    "\n",
    "print(\"rating = 1\", len(train_r1))\n",
    "print(\"rating = 2\", len(train_r2))\n",
    "print(\"rating = 3\", len(train_r3))\n",
    "print(\"rating = 4\", len(train_r4))\n",
    "print(\"rating = 5\", len(train_r5))\n",
    "print(\"rating = 1\", len(test_r1))\n",
    "print(\"rating = 2\", len(test_r2))\n",
    "print(\"rating = 3\", len(test_r3))\n",
    "print(\"rating = 4\", len(test_r4))\n",
    "print(\"rating = 5\", len(test_r5))\n",
    "\n",
    "train1 = train_r1.append(train_r1).append(train_r1).append(train_r1).append(train_r1).append(train_r1).append(train_r1).append(train_r1).append(train_r1).append(train_r1).append(train_r1).append(train_r1).append(train_r1)\n",
    "test1 = test_r1.append(test_r1).append(test_r1).append(test_r1).append(test_r1).append(test_r1).append(test_r1).append(test_r1).append(test_r1).append(test_r1).append(test_r1).append(test_r1).append(test_r1)\n",
    "train2 = train_r2.append(train_r2).append(train_r2).append(train_r2).append(train_r2).append(train_r2).append(train_r2).append(train_r2)\n",
    "test2 = test_r2.append(test_r2).append(test_r2).append(test_r2).append(test_r2).append(test_r2).append(test_r2).append(test_r2)\n",
    "train3 = train_r3.append(train_r3).append(train_r3)\n",
    "test3 = test_r3.append(test_r3).append(test_r3)\n",
    "train4 = train_r4.copy()\n",
    "test4 = test_r4.copy()\n",
    "train5 = train_r5.copy()\n",
    "test5 = test_r5.copy()\n",
    "\n",
    "print(\"rating = 1\", len(train1))\n",
    "print(\"rating = 2\", len(train2))\n",
    "print(\"rating = 3\", len(train3))\n",
    "print(\"rating = 4\", len(train4))\n",
    "print(\"rating = 5\", len(train5))\n",
    "print(\"rating = 1\", len(test1))\n",
    "print(\"rating = 2\", len(test2))\n",
    "print(\"rating = 3\", len(test3))\n",
    "print(\"rating = 4\", len(test4))\n",
    "print(\"rating = 5\", len(test5))\n",
    "\n",
    "data_test = test1.append(test2).append(test3).append(test4).append(test5).dropna()\n",
    "data_train = train1.append(train2).append(train3).append(train4).append(train5).dropna()\n",
    "\n",
    "X_train = data_train['try']\n",
    "X_test = data_test['try']\n",
    "y_train = data_train['rating']\n",
    "y_test = data_test['rating']"
   ]
  },
  {
   "cell_type": "markdown",
   "metadata": {},
   "source": [
    "## Oversampling before train/test split"
   ]
  },
  {
   "cell_type": "code",
   "execution_count": 65,
   "metadata": {},
   "outputs": [],
   "source": [
    "r5 = data.loc[:,\"rating\"]==5\n",
    "data_r5=data[r5]\n",
    "\n",
    "r4 = data.loc[:,\"rating\"]==4\n",
    "data_r4=data[r4]\n",
    "\n",
    "r3 = data.loc[:,\"rating\"]==3\n",
    "data_r3=data[r3]\n",
    "\n",
    "r2 = data.loc[:,\"rating\"]==2\n",
    "data_r2=data[r2]\n",
    "\n",
    "r1 = data.loc[:,\"rating\"]==1\n",
    "data_r1=data[r1]"
   ]
  },
  {
   "cell_type": "code",
   "execution_count": 66,
   "metadata": {},
   "outputs": [
    {
     "name": "stdout",
     "output_type": "stream",
     "text": [
      "rating = 1 3467\n",
      "rating = 2 5605\n",
      "rating = 3 17287\n",
      "rating = 4 45399\n",
      "rating = 5 45756\n"
     ]
    }
   ],
   "source": [
    "print(\"rating = 1\", len(data_r1))\n",
    "print(\"rating = 2\", len(data_r2))\n",
    "print(\"rating = 3\", len(data_r3))\n",
    "print(\"rating = 4\", len(data_r4))\n",
    "print(\"rating = 5\", len(data_r5))"
   ]
  },
  {
   "cell_type": "code",
   "execution_count": 67,
   "metadata": {},
   "outputs": [],
   "source": [
    "rating1 = data_r1.append(data_r1).append(data_r1).append(data_r1).append(data_r1).append(data_r1).append(data_r1).append(data_r1).append(data_r1).append(data_r1).append(data_r1).append(data_r1).append(data_r1)"
   ]
  },
  {
   "cell_type": "code",
   "execution_count": 68,
   "metadata": {},
   "outputs": [],
   "source": [
    "rating2 = data_r2.append(data_r2).append(data_r2).append(data_r2).append(data_r2).append(data_r2).append(data_r2).append(data_r2)"
   ]
  },
  {
   "cell_type": "code",
   "execution_count": 69,
   "metadata": {},
   "outputs": [],
   "source": [
    "rating3 = data_r3.append(data_r3).append(data_r3)"
   ]
  },
  {
   "cell_type": "code",
   "execution_count": 70,
   "metadata": {},
   "outputs": [],
   "source": [
    "rating4 = data_r4.copy()"
   ]
  },
  {
   "cell_type": "code",
   "execution_count": 71,
   "metadata": {},
   "outputs": [],
   "source": [
    "rating5 = data_r5.copy()"
   ]
  },
  {
   "cell_type": "code",
   "execution_count": 74,
   "metadata": {},
   "outputs": [
    {
     "name": "stdout",
     "output_type": "stream",
     "text": [
      "rating = 1 45071\n",
      "rating = 2 44840\n",
      "rating = 3 51861\n",
      "rating = 4 45399\n",
      "rating = 5 45756\n"
     ]
    }
   ],
   "source": [
    "print(\"rating = 1\", len(rating1))\n",
    "print(\"rating = 2\", len(rating2))\n",
    "print(\"rating = 3\", len(rating3))\n",
    "print(\"rating = 4\", len(rating4))\n",
    "print(\"rating = 5\", len(rating5))"
   ]
  },
  {
   "cell_type": "code",
   "execution_count": 75,
   "metadata": {},
   "outputs": [],
   "source": [
    "data = rating1.append(rating2).append(rating3).append(rating4).append(rating5)"
   ]
  },
  {
   "cell_type": "markdown",
   "metadata": {},
   "source": [
    "## 2. Naïve bayes classifier"
   ]
  },
  {
   "cell_type": "markdown",
   "metadata": {},
   "source": [
    "### 2.1 Data processing"
   ]
  },
  {
   "cell_type": "markdown",
   "metadata": {},
   "source": [
    "##### 2.1.1 Train/test split"
   ]
  },
  {
   "cell_type": "code",
   "execution_count": 116,
   "metadata": {},
   "outputs": [],
   "source": [
    "dataNB = data.dropna()\n",
    "X = dataNB['try']\n",
    "y = dataNB['rating']\n",
    "\n",
    "#make train test split:\n",
    "X_train, X_test, y_train, y_test = train_test_split(X, y, test_size=0.2, random_state=111)"
   ]
  },
  {
   "cell_type": "markdown",
   "metadata": {},
   "source": [
    "##### 2.1.2 Defining pre-processing to apply"
   ]
  },
  {
   "cell_type": "code",
   "execution_count": 78,
   "metadata": {},
   "outputs": [],
   "source": [
    "def clean_text(text):\n",
    "    \n",
    "    # convert text to lowercase\n",
    "    text = text.strip().lower()\n",
    "    \n",
    "    # replace punctuation characters with spaces\n",
    "    filters='\"\\'%&()*,-./:;<=>?[\\\\]^_`{|}~\\t\\n$€£`~|+=-\"@#\"\"\"'\n",
    "    translate_dict = dict((c, \" \") for c in filters)\n",
    "    translate_map = str.maketrans(translate_dict)\n",
    "    text = text.translate(translate_map)\n",
    "\n",
    "    return text\n",
    "\n",
    "stopW = stopwords.words('english')\n",
    "stopW += \"Novotel\""
   ]
  },
  {
   "cell_type": "markdown",
   "metadata": {},
   "source": [
    "##### 2.1.3 Wordcount vectorization"
   ]
  },
  {
   "cell_type": "code",
   "execution_count": 94,
   "metadata": {},
   "outputs": [],
   "source": [
    "vectorizer = CountVectorizer(\n",
    "    stop_words=\"english\",\n",
    "    preprocessor=clean_text)\n",
    "\n",
    "data_train_count = vectorizer.fit_transform(X_train)\n",
    "data_test_count = vectorizer.transform(X_test)"
   ]
  },
  {
   "cell_type": "markdown",
   "metadata": {},
   "source": [
    "##### 2.1.4 TF-IDF Vectorization"
   ]
  },
  {
   "cell_type": "code",
   "execution_count": 83,
   "metadata": {},
   "outputs": [],
   "source": [
    "vectorizer = TfidfVectorizer(\n",
    "    stop_words=stopW,\n",
    "    preprocessor=clean_text,\n",
    "    sublinear_tf=True,\n",
    "    min_df=1,\n",
    "    norm='l2',\n",
    "    ngram_range=(2, 8))\n",
    "\n",
    "data_train_tfidf = vectorizer.fit_transform(X_train)\n",
    "data_test_tfidf = vectorizer.transform(X_test)"
   ]
  },
  {
   "cell_type": "markdown",
   "metadata": {},
   "source": [
    "### 2.2 Building the model"
   ]
  },
  {
   "cell_type": "markdown",
   "metadata": {},
   "source": [
    "##### 2.2.1 Using WordCount"
   ]
  },
  {
   "cell_type": "code",
   "execution_count": 103,
   "metadata": {},
   "outputs": [],
   "source": [
    "clf_count = MultinomialNB()\n",
    "clf_count.fit(data_train_count,y_train)\n",
    "\n",
    "#predict on test data:\n",
    "pred_count = clf_count.predict(data_test_count)\n",
    "pred_count_prob = clf_count.predict_proba(data_test_count)[:,1]"
   ]
  },
  {
   "cell_type": "markdown",
   "metadata": {},
   "source": [
    "##### 2.2.2 Using TF-IDF"
   ]
  },
  {
   "cell_type": "code",
   "execution_count": 108,
   "metadata": {},
   "outputs": [],
   "source": [
    "clf_tfidf = MultinomialNB()\n",
    "clf_tfidf.fit(data_train_tfidf,y_train)\n",
    "\n",
    "#predict on test data:\n",
    "pred_tfidf = clf_tfidf.predict(data_test_tfidf)\n",
    "pred_count_tfidf = clf_tfidf.predict_proba(data_test_tfidf)[:,1]"
   ]
  },
  {
   "cell_type": "markdown",
   "metadata": {},
   "source": [
    "### 2.3 Model assesment"
   ]
  },
  {
   "cell_type": "markdown",
   "metadata": {},
   "source": [
    "##### 2.3.1 Using Wordcount"
   ]
  },
  {
   "cell_type": "code",
   "execution_count": 105,
   "metadata": {},
   "outputs": [
    {
     "name": "stdout",
     "output_type": "stream",
     "text": [
      "\n",
      "\n",
      "Using count vectorization\n",
      "\n",
      "\n",
      "Accuracy : 0.6763603463874887\n",
      "Precision : 0.6820847539712532\n",
      "Sensitivity : 0.6763603463874887\n",
      "F1 Score : 0.6782891062408106\n"
     ]
    }
   ],
   "source": [
    "print(\"\\n\")\n",
    "print(\"Using count vectorization\")\n",
    "print(\"\\n\")\n",
    "acc_count = accuracy_score(y_test,pred_count)\n",
    "prec_count = precision_score(y_test, pred_count,average='weighted')\n",
    "sens_count = recall_score(y_test,pred_count,average='weighted')\n",
    "f1_count = f1_score(y_test, pred_count,average='weighted')\n",
    "\n",
    "print(\"Accuracy :\", acc_count)\n",
    "print(\"Precision :\", prec_count)\n",
    "print(\"Sensitivity :\", sens_count)\n",
    "print(\"F1 Score :\", f1_count)"
   ]
  },
  {
   "cell_type": "code",
   "execution_count": 106,
   "metadata": {},
   "outputs": [
    {
     "data": {
      "text/plain": [
       "<matplotlib.axes._subplots.AxesSubplot at 0x1a8e9f3048>"
      ]
     },
     "execution_count": 106,
     "metadata": {},
     "output_type": "execute_result"
    },
    {
     "data": {
      "image/png": "[encoded data removed]",
      "text/plain": [
       "<Figure size 432x288 with 1 Axes>"
      ]
     },
     "metadata": {
      "needs_background": "light"
     },
     "output_type": "display_data"
    }
   ],
   "source": [
    "confusion = metrics.confusion_matrix(y_test, pred_count)\n",
    "sns.heatmap(confusion, annot = True, cbar = False, square = True, cmap = 'Blues', fmt = 'g', linewidths = 0.5)"
   ]
  },
  {
   "cell_type": "markdown",
   "metadata": {},
   "source": [
    "##### 2.3.2 Using TF-IDF "
   ]
  },
  {
   "cell_type": "code",
   "execution_count": 109,
   "metadata": {},
   "outputs": [
    {
     "name": "stdout",
     "output_type": "stream",
     "text": [
      "\n",
      "\n",
      "Using TF-IDF vectorization\n",
      "\n",
      "\n",
      "Accuracy : 0.8343242428159062\n",
      "Precision : 0.8283760142608955\n",
      "Sensitivity : 0.8343242428159062\n",
      "F1 Score : 0.8237710502606431\n"
     ]
    }
   ],
   "source": [
    "print(\"\\n\")\n",
    "print(\"Using TF-IDF vectorization\")\n",
    "print(\"\\n\")\n",
    "\n",
    "acc_tfidf = accuracy_score(y_test,pred_tfidf)\n",
    "prec_tfidf = precision_score(y_test, pred_tfidf,average='weighted')\n",
    "sens_tfidf = recall_score(y_test,pred_tfidf,average='weighted')\n",
    "f1_tfidf = f1_score(y_test, pred_tfidf,average='weighted')\n",
    "\n",
    "print(\"Accuracy :\", acc_tfidf)\n",
    "print(\"Precision :\", prec_tfidf)\n",
    "print(\"Sensitivity :\", sens_tfidf)\n",
    "print(\"F1 Score :\", f1_tfidf)"
   ]
  },
  {
   "cell_type": "code",
   "execution_count": 110,
   "metadata": {},
   "outputs": [
    {
     "data": {
      "text/plain": [
       "<matplotlib.axes._subplots.AxesSubplot at 0x1ae3c4e518>"
      ]
     },
     "execution_count": 110,
     "metadata": {},
     "output_type": "execute_result"
    },
    {
     "data": {
      "image/png": "[encoded data removed]",
      "text/plain": [
       "<Figure size 432x288 with 1 Axes>"
      ]
     },
     "metadata": {
      "needs_background": "light"
     },
     "output_type": "display_data"
    }
   ],
   "source": [
    "confusion = metrics.confusion_matrix(y_test, pred_tfidf)\n",
    "sns.heatmap(confusion, annot = True, cbar = False, square = True, cmap = 'Blues', fmt = 'g', linewidths = 0.5)"
   ]
  },
  {
   "cell_type": "code",
   "execution_count": null,
   "metadata": {},
   "outputs": [],
   "source": [
    "vectorizer = TfidfVectorizer(\n",
    "    stop_words=stopW,\n",
    "    preprocessor=clean_text,\n",
    "    sublinear_tf=True,\n",
    "    min_df=1,\n",
    "    norm='l2',\n",
    "    ngram_range=(2, 8))\n",
    "\n",
    "data_train_tfidf = vectorizer.fit_transform(X_train)\n",
    "data_test_tfidf = vectorizer.transform(X_test)"
   ]
  },
  {
   "cell_type": "code",
   "execution_count": 118,
   "metadata": {},
   "outputs": [],
   "source": [
    "from sklearn.pipeline import Pipeline"
   ]
  },
  {
   "cell_type": "code",
   "execution_count": 119,
   "metadata": {},
   "outputs": [
    {
     "ename": "NameError",
     "evalue": "name 'tfidf_lr_pipe' is not defined",
     "output_type": "error",
     "traceback": [
      "\u001b[0;31m---------------------------------------------------------------------------\u001b[0m",
      "\u001b[0;31mNameError\u001b[0m                                 Traceback (most recent call last)",
      "\u001b[0;32m<ipython-input-119-3b466b176323>\u001b[0m in \u001b[0;36m<module>\u001b[0;34m\u001b[0m\n\u001b[1;32m     15\u001b[0m \u001b[0;31m# Similarly here only transform() will be called internally for tfidfvectorizer\u001b[0m\u001b[0;34m\u001b[0m\u001b[0;34m\u001b[0m\u001b[0;34m\u001b[0m\u001b[0m\n\u001b[1;32m     16\u001b[0m \u001b[0;31m# And that data will be passed to lr.predict()\u001b[0m\u001b[0;34m\u001b[0m\u001b[0;34m\u001b[0m\u001b[0;34m\u001b[0m\u001b[0m\n\u001b[0;32m---> 17\u001b[0;31m \u001b[0my_preds\u001b[0m \u001b[0;34m=\u001b[0m \u001b[0mtfidf_lr_pipe\u001b[0m\u001b[0;34m.\u001b[0m\u001b[0mpredict\u001b[0m\u001b[0;34m(\u001b[0m\u001b[0mX_test\u001b[0m\u001b[0;34m)\u001b[0m\u001b[0;34m\u001b[0m\u001b[0;34m\u001b[0m\u001b[0m\n\u001b[0m\u001b[1;32m     18\u001b[0m \u001b[0;34m\u001b[0m\u001b[0m\n\u001b[1;32m     19\u001b[0m \u001b[0;31m# Now you can save this pipeline alone (which will save all its internal parts)\u001b[0m\u001b[0;34m\u001b[0m\u001b[0;34m\u001b[0m\u001b[0;34m\u001b[0m\u001b[0m\n",
      "\u001b[0;31mNameError\u001b[0m: name 'tfidf_lr_pipe' is not defined"
     ]
    }
   ],
   "source": [
    "tfidf_vectorizer = TfidfVectorizer(\n",
    "    stop_words=stopW,\n",
    "    preprocessor=clean_text,\n",
    "    sublinear_tf=True,\n",
    "    min_df=1,\n",
    "    norm='l2',\n",
    "    ngram_range=(2, 8))\n",
    "nb = MultinomialNB()\n",
    "tfidf_nb_pipe = Pipeline([('tfidf', tfidf_vectorizer), ('nb', nb)])\n",
    "\n",
    "# Internally your X_train will be automatically converted to tfidf \n",
    "# and that will be passed to lr\n",
    "tfidf_nb_pipe.fit(X_train, y_train)\n",
    "\n",
    "# Similarly here only transform() will be called internally for tfidfvectorizer\n",
    "# And that data will be passed to lr.predict()\n"
   ]
  },
  {
   "cell_type": "code",
   "execution_count": null,
   "metadata": {},
   "outputs": [],
   "source": [
    "filename = 'finalized_model.sav'\n",
    "joblib.dump(tfidf_nb_pipe, filename)"
   ]
  },
  {
   "cell_type": "code",
   "execution_count": null,
   "metadata": {},
   "outputs": [],
   "source": [
    "y_preds = tfidf_nb_pipe.predict(X_test)\n",
    "\n",
    "# Now you can save this pipeline alone (which will save all its internal parts)\n",
    "filename = 'finalized_model.sav'\n",
    "joblib.dump(tfidf_nb_pipe, filename)"
   ]
  },
  {
   "cell_type": "code",
   "execution_count": null,
   "metadata": {},
   "outputs": [],
   "source": [
    "data_2 = pd.read_csv('prediction_challenge_evaluate_without_rating.csv')\n",
    "data_2.head()\n",
    "data_2['try'] = data_2['review'] + \" \" + data_2['title'] + \" \" + data_2['trip_date'] + \" \" + data_2['hotel_name']\n",
    "new_x = data_2['try']"
   ]
  },
  {
   "cell_type": "code",
   "execution_count": null,
   "metadata": {},
   "outputs": [],
   "source": [
    "loaded_pipe = joblib.load(\"finalized_model.sav\")\n",
    "result = loaded_model.predict(new_x)"
   ]
  },
  {
   "cell_type": "code",
   "execution_count": null,
   "metadata": {},
   "outputs": [],
   "source": [
    "vectorizer = TfidfVectorizer(\n",
    "    stop_words=stopW,\n",
    "    preprocessor=clean_text,\n",
    "    sublinear_tf=True,\n",
    "    min_df=1,\n",
    "    norm='l2',\n",
    "    ngram_range=(2, 8))\n",
    "\n",
    "data_2_tfidf = vectorizer.transform(data_2['try'])"
   ]
  },
  {
   "cell_type": "code",
   "execution_count": null,
   "metadata": {},
   "outputs": [],
   "source": [
    "pred_tfidf = clf_tfidf.predict()"
   ]
  },
  {
   "cell_type": "markdown",
   "metadata": {},
   "source": [
    "## KNN Classifier"
   ]
  },
  {
   "cell_type": "code",
   "execution_count": null,
   "metadata": {},
   "outputs": [],
   "source": [
    "from sklearn.neighbors import KNeighborsClassifier \n",
    "knn = KNeighborsClassifier(n_neighbors = 23).fit(data_train_count,y_train)\n",
    "  \n",
    "# creating a confusion matrix \n",
    "knn_predictions = knn.predict(data_test_count)  \n",
    "cm = confusion_matrix(y_test, knn_predictions) \n",
    "sns.heatmap(cm, annot = True, cbar = False, square = True, cmap = 'Blues', fmt = 'g', linewidths = 0.5)"
   ]
  },
  {
   "cell_type": "code",
   "execution_count": 146,
   "metadata": {},
   "outputs": [
    {
     "data": {
      "text/plain": [
       "<matplotlib.axes._subplots.AxesSubplot at 0x1a40db5470>"
      ]
     },
     "execution_count": 146,
     "metadata": {},
     "output_type": "execute_result"
    },
    {
     "data": {
      "image/png": "[encoded data removed]",
      "text/plain": [
       "<Figure size 432x288 with 1 Axes>"
      ]
     },
     "metadata": {
      "needs_background": "light"
     },
     "output_type": "display_data"
    }
   ],
   "source": [
    "from sklearn.neighbors import KNeighborsClassifier \n",
    "knn = KNeighborsClassifier(n_neighbors = 23).fit(data_train_tfidf,y_train)\n",
    "  \n",
    "# creating a confusion matrix \n",
    "knn_predictions = knn.predict(data_test_tfidf)  \n",
    "cm = confusion_matrix(y_test, knn_predictions) \n",
    "sns.heatmap(cm, annot = True, cbar = False, square = True, cmap = 'Blues', fmt = 'g', linewidths = 0.5)"
   ]
  },
  {
   "cell_type": "markdown",
   "metadata": {},
   "source": [
    "### To test which model suits best"
   ]
  },
  {
   "cell_type": "code",
   "execution_count": 189,
   "metadata": {},
   "outputs": [
    {
     "name": "stderr",
     "output_type": "stream",
     "text": [
      "/Users/laks/anaconda3/lib/python3.6/site-packages/sklearn/linear_model/logistic.py:433: FutureWarning: Default solver will be changed to 'lbfgs' in 0.22. Specify a solver to silence this warning.\n",
      "  FutureWarning)\n",
      "/Users/laks/anaconda3/lib/python3.6/site-packages/sklearn/linear_model/logistic.py:460: FutureWarning: Default multi_class will be changed to 'auto' in 0.22. Specify the multi_class option to silence this warning.\n",
      "  \"this warning.\", FutureWarning)\n"
     ]
    },
    {
     "data": {
      "image/png": "[encoded data removed]",
      "text/plain": [
       "<Figure size 432x288 with 1 Axes>"
      ]
     },
     "metadata": {
      "needs_background": "light"
     },
     "output_type": "display_data"
    }
   ],
   "source": [
    "from sklearn.linear_model import LogisticRegression\n",
    "from sklearn.ensemble import RandomForestClassifier\n",
    "from sklearn.svm import LinearSVC\n",
    "\n",
    "from sklearn.model_selection import cross_val_score\n",
    "\n",
    "models = [\n",
    "    RandomForestClassifier(n_estimators=200, max_depth=3, random_state=0),\n",
    "    LinearSVC(),\n",
    "    MultinomialNB(),\n",
    "    LogisticRegression(random_state=0),\n",
    "]\n",
    "CV = 5\n",
    "cv_df = pd.DataFrame(index=range(CV * len(models)))\n",
    "entries = []\n",
    "for model in models:\n",
    "    model_name = model.__class__.__name__\n",
    "    accuracies = cross_val_score(model, data_train_tfidf, y_train, scoring='accuracy', cv=CV)\n",
    "    for fold_idx, accuracy in enumerate(accuracies):\n",
    "        entries.append((model_name, fold_idx, accuracy))\n",
    "cv_df = pd.DataFrame(entries, columns=['model_name', 'fold_idx', 'accuracy'])\n",
    "\n",
    "import seaborn as sns\n",
    "\n",
    "sns.boxplot(x='model_name', y='accuracy', data=cv_df)\n",
    "sns.stripplot(x='model_name', y='accuracy', data=cv_df, \n",
    "              size=8, jitter=True, edgecolor=\"gray\", linewidth=2)\n",
    "plt.show()"
   ]
  },
  {
   "cell_type": "markdown",
   "metadata": {},
   "source": [
    "## Logistic regression"
   ]
  },
  {
   "cell_type": "code",
   "execution_count": 152,
   "metadata": {},
   "outputs": [
    {
     "data": {
      "text/plain": [
       "<matplotlib.axes._subplots.AxesSubplot at 0x1a40efe3c8>"
      ]
     },
     "execution_count": 152,
     "metadata": {},
     "output_type": "execute_result"
    },
    {
     "data": {
      "image/png": "[encoded data removed]",
      "text/plain": [
       "<Figure size 432x288 with 1 Axes>"
      ]
     },
     "metadata": {
      "needs_background": "light"
     },
     "output_type": "display_data"
    }
   ],
   "source": [
    "logr = LogisticRegression(random_state=0).fit(data_train_tfidf, y_train)\n",
    "logr_predictions = logr.predict(data_test_tfidf)  \n",
    "cm = confusion_matrix(y_test, logr_predictions) \n",
    "sns.heatmap(cm, annot = True, cbar = False, square = True, cmap = 'Blues', fmt = 'g', linewidths = 0.5)"
   ]
  },
  {
   "cell_type": "code",
   "execution_count": 153,
   "metadata": {},
   "outputs": [
    {
     "name": "stdout",
     "output_type": "stream",
     "text": [
      "Accuracy : 0.6478290539964173\n",
      "Precision : 0.6398473027699041\n",
      "Sensitivity : 0.6478290539964173\n",
      "F1 Score : 0.6368544307587087\n"
     ]
    }
   ],
   "source": [
    "acc_tfidf = accuracy_score(y_test,logr_predictions)\n",
    "prec_tfidf = precision_score(y_test, logr_predictions,average='weighted')\n",
    "sens_tfidf = recall_score(y_test,logr_predictions,average='weighted')\n",
    "f1_tfidf = f1_score(y_test, logr_predictions,average='weighted')\n",
    "\n",
    "print(\"Accuracy :\", acc_tfidf)\n",
    "print(\"Precision :\", prec_tfidf)\n",
    "print(\"Sensitivity :\", sens_tfidf)\n",
    "print(\"F1 Score :\", f1_tfidf)"
   ]
  },
  {
   "cell_type": "markdown",
   "metadata": {},
   "source": [
    "Our model is putting too much weight on the higher rankings... We could go around this problem by subsampling each ranking so that the number orf reviews per class is the same for all rankings"
   ]
  },
  {
   "cell_type": "markdown",
   "metadata": {},
   "source": [
    "## Re-weighting samples"
   ]
  },
  {
   "cell_type": "code",
   "execution_count": 207,
   "metadata": {},
   "outputs": [
    {
     "name": "stdout",
     "output_type": "stream",
     "text": [
      "We will take the number of rows having rating = 1 (3467, 6) (5605, 6) (17287, 6) (45399, 6) (45756, 6)\n"
     ]
    }
   ],
   "source": [
    "# Separating data according to rating\n",
    "r1 = data.loc[:,\"rating\"]==1\n",
    "data_r1=data[r1]\n",
    "r2 = data.loc[:,\"rating\"]==2\n",
    "data_r2=data[r2]\n",
    "r3 = data.loc[:,\"rating\"]==3\n",
    "data_r3=data[r3]\n",
    "r4 = data.loc[:,\"rating\"]==4\n",
    "data_r4=data[r4]\n",
    "r5 = data.loc[:,\"rating\"]==5\n",
    "data_r5=data[r5]\n",
    "print(\"We will take the number of rows having rating = 1\",data_r1.shape,data_r2.shape,data_r3.shape,data_r4.shape,data_r5.shape)\n",
    "\n",
    "# Subsampling to the max amount of rows of data having rating = 1\n",
    "df1 = data_r1.sample(n = data_r1.shape[0],random_state = 11)\n",
    "df2 = data_r2.sample(n = data_r1.shape[0],random_state = 11)\n",
    "df3 = data_r3.sample(n = data_r1.shape[0],random_state = 11)\n",
    "df4 = data_r4.sample(n = data_r1.shape[0],random_state = 11)\n",
    "df5 = data_r5.sample(n = data_r1.shape[0],random_state = 11)\n",
    "\n",
    "# Grouping in a same dataframe all ratings\n",
    "temp1 = df1.append(df2)\n",
    "temp2 = temp1.append(df3)\n",
    "temp3 = temp2.append(df4)\n",
    "newdata = temp3.append(df5)"
   ]
  },
  {
   "cell_type": "code",
   "execution_count": 208,
   "metadata": {},
   "outputs": [],
   "source": [
    "don = newdata.dropna()\n",
    "X = don['try']\n",
    "y = don['rating']\n",
    "\n",
    "#make train test split:\n",
    "X_train, X_test, y_train, y_test = train_test_split(X, y, test_size=0.2, random_state=111)"
   ]
  },
  {
   "cell_type": "markdown",
   "metadata": {},
   "source": [
    "## Multinomial NB"
   ]
  },
  {
   "cell_type": "markdown",
   "metadata": {},
   "source": [
    "#### TF-IDF vectorization"
   ]
  },
  {
   "cell_type": "code",
   "execution_count": 212,
   "metadata": {},
   "outputs": [
    {
     "ename": "KeyboardInterrupt",
     "evalue": "",
     "output_type": "error",
     "traceback": [
      "\u001b[0;31m---------------------------------------------------------------------------\u001b[0m",
      "\u001b[0;31mKeyboardInterrupt\u001b[0m                         Traceback (most recent call last)",
      "\u001b[0;32m<ipython-input-212-a6365c0190ba>\u001b[0m in \u001b[0;36m<module>\u001b[0;34m\u001b[0m\n\u001b[1;32m      7\u001b[0m     ngram_range=(1, 2))\n\u001b[1;32m      8\u001b[0m \u001b[0;34m\u001b[0m\u001b[0m\n\u001b[0;32m----> 9\u001b[0;31m \u001b[0mdata_train_tfidf\u001b[0m \u001b[0;34m=\u001b[0m \u001b[0mvectorizer\u001b[0m\u001b[0;34m.\u001b[0m\u001b[0mfit_transform\u001b[0m\u001b[0;34m(\u001b[0m\u001b[0mX_train\u001b[0m\u001b[0;34m)\u001b[0m\u001b[0;34m\u001b[0m\u001b[0;34m\u001b[0m\u001b[0m\n\u001b[0m\u001b[1;32m     10\u001b[0m \u001b[0mdata_test_tfidf\u001b[0m \u001b[0;34m=\u001b[0m \u001b[0mvectorizer\u001b[0m\u001b[0;34m.\u001b[0m\u001b[0mtransform\u001b[0m\u001b[0;34m(\u001b[0m\u001b[0mX_test\u001b[0m\u001b[0;34m)\u001b[0m\u001b[0;34m\u001b[0m\u001b[0;34m\u001b[0m\u001b[0m\n",
      "\u001b[0;32m~/anaconda3/lib/python3.6/site-packages/sklearn/feature_extraction/text.py\u001b[0m in \u001b[0;36mfit_transform\u001b[0;34m(self, raw_documents, y)\u001b[0m\n\u001b[1;32m   1601\u001b[0m         \"\"\"\n\u001b[1;32m   1602\u001b[0m         \u001b[0mself\u001b[0m\u001b[0;34m.\u001b[0m\u001b[0m_check_params\u001b[0m\u001b[0;34m(\u001b[0m\u001b[0;34m)\u001b[0m\u001b[0;34m\u001b[0m\u001b[0;34m\u001b[0m\u001b[0m\n\u001b[0;32m-> 1603\u001b[0;31m         \u001b[0mX\u001b[0m \u001b[0;34m=\u001b[0m \u001b[0msuper\u001b[0m\u001b[0;34m(\u001b[0m\u001b[0mTfidfVectorizer\u001b[0m\u001b[0;34m,\u001b[0m \u001b[0mself\u001b[0m\u001b[0;34m)\u001b[0m\u001b[0;34m.\u001b[0m\u001b[0mfit_transform\u001b[0m\u001b[0;34m(\u001b[0m\u001b[0mraw_documents\u001b[0m\u001b[0;34m)\u001b[0m\u001b[0;34m\u001b[0m\u001b[0;34m\u001b[0m\u001b[0m\n\u001b[0m\u001b[1;32m   1604\u001b[0m         \u001b[0mself\u001b[0m\u001b[0;34m.\u001b[0m\u001b[0m_tfidf\u001b[0m\u001b[0;34m.\u001b[0m\u001b[0mfit\u001b[0m\u001b[0;34m(\u001b[0m\u001b[0mX\u001b[0m\u001b[0;34m)\u001b[0m\u001b[0;34m\u001b[0m\u001b[0;34m\u001b[0m\u001b[0m\n\u001b[1;32m   1605\u001b[0m         \u001b[0;31m# X is already a transformed view of raw_documents so\u001b[0m\u001b[0;34m\u001b[0m\u001b[0;34m\u001b[0m\u001b[0;34m\u001b[0m\u001b[0m\n",
      "\u001b[0;32m~/anaconda3/lib/python3.6/site-packages/sklearn/feature_extraction/text.py\u001b[0m in \u001b[0;36mfit_transform\u001b[0;34m(self, raw_documents, y)\u001b[0m\n\u001b[1;32m   1030\u001b[0m \u001b[0;34m\u001b[0m\u001b[0m\n\u001b[1;32m   1031\u001b[0m         vocabulary, X = self._count_vocab(raw_documents,\n\u001b[0;32m-> 1032\u001b[0;31m                                           self.fixed_vocabulary_)\n\u001b[0m\u001b[1;32m   1033\u001b[0m \u001b[0;34m\u001b[0m\u001b[0m\n\u001b[1;32m   1034\u001b[0m         \u001b[0;32mif\u001b[0m \u001b[0mself\u001b[0m\u001b[0;34m.\u001b[0m\u001b[0mbinary\u001b[0m\u001b[0;34m:\u001b[0m\u001b[0;34m\u001b[0m\u001b[0;34m\u001b[0m\u001b[0m\n",
      "\u001b[0;32m~/anaconda3/lib/python3.6/site-packages/sklearn/feature_extraction/text.py\u001b[0m in \u001b[0;36m_count_vocab\u001b[0;34m(self, raw_documents, fixed_vocab)\u001b[0m\n\u001b[1;32m    940\u001b[0m         \u001b[0;32mfor\u001b[0m \u001b[0mdoc\u001b[0m \u001b[0;32min\u001b[0m \u001b[0mraw_documents\u001b[0m\u001b[0;34m:\u001b[0m\u001b[0;34m\u001b[0m\u001b[0;34m\u001b[0m\u001b[0m\n\u001b[1;32m    941\u001b[0m             \u001b[0mfeature_counter\u001b[0m \u001b[0;34m=\u001b[0m \u001b[0;34m{\u001b[0m\u001b[0;34m}\u001b[0m\u001b[0;34m\u001b[0m\u001b[0;34m\u001b[0m\u001b[0m\n\u001b[0;32m--> 942\u001b[0;31m             \u001b[0;32mfor\u001b[0m \u001b[0mfeature\u001b[0m \u001b[0;32min\u001b[0m \u001b[0manalyze\u001b[0m\u001b[0;34m(\u001b[0m\u001b[0mdoc\u001b[0m\u001b[0;34m)\u001b[0m\u001b[0;34m:\u001b[0m\u001b[0;34m\u001b[0m\u001b[0;34m\u001b[0m\u001b[0m\n\u001b[0m\u001b[1;32m    943\u001b[0m                 \u001b[0;32mtry\u001b[0m\u001b[0;34m:\u001b[0m\u001b[0;34m\u001b[0m\u001b[0;34m\u001b[0m\u001b[0m\n\u001b[1;32m    944\u001b[0m                     \u001b[0mfeature_idx\u001b[0m \u001b[0;34m=\u001b[0m \u001b[0mvocabulary\u001b[0m\u001b[0;34m[\u001b[0m\u001b[0mfeature\u001b[0m\u001b[0;34m]\u001b[0m\u001b[0;34m\u001b[0m\u001b[0;34m\u001b[0m\u001b[0m\n",
      "\u001b[0;32m~/anaconda3/lib/python3.6/site-packages/sklearn/feature_extraction/text.py\u001b[0m in \u001b[0;36m<lambda>\u001b[0;34m(doc)\u001b[0m\n\u001b[1;32m    326\u001b[0m                                                tokenize)\n\u001b[1;32m    327\u001b[0m             return lambda doc: self._word_ngrams(\n\u001b[0;32m--> 328\u001b[0;31m                 tokenize(preprocess(self.decode(doc))), stop_words)\n\u001b[0m\u001b[1;32m    329\u001b[0m \u001b[0;34m\u001b[0m\u001b[0m\n\u001b[1;32m    330\u001b[0m         \u001b[0;32melse\u001b[0m\u001b[0;34m:\u001b[0m\u001b[0;34m\u001b[0m\u001b[0;34m\u001b[0m\u001b[0m\n",
      "\u001b[0;31mKeyboardInterrupt\u001b[0m: "
     ]
    }
   ],
   "source": [
    "vectorizer = TfidfVectorizer(\n",
    "    stop_words=\"english\",\n",
    "    preprocessor=clean_text,\n",
    "    sublinear_tf=True,\n",
    "    min_df=5,\n",
    "    norm='l2',\n",
    "    ngram_range=(1, 2))\n",
    "\n",
    "data_train_tfidf = vectorizer.fit_transform(X_train)\n",
    "data_test_tfidf = vectorizer.transform(X_test)"
   ]
  },
  {
   "cell_type": "code",
   "execution_count": 173,
   "metadata": {},
   "outputs": [],
   "source": [
    "clf_tfidf = MultinomialNB()\n",
    "clf_tfidf.fit(data_train_tfidf,y_train)\n",
    "\n",
    "#predict on test data:\n",
    "pred_tfidf = clf_tfidf.predict(data_test_tfidf)\n",
    "prob_tfidf = clf_tfidf.predict_proba(data_test_tfidf)[:,1]"
   ]
  },
  {
   "cell_type": "code",
   "execution_count": 174,
   "metadata": {},
   "outputs": [
    {
     "name": "stdout",
     "output_type": "stream",
     "text": [
      "\n",
      "\n",
      "Using TF-IDF vectorization\n",
      "\n",
      "\n",
      "Accuracy : 0.5521134916039374\n",
      "Precision : 0.5501718688170422\n",
      "Sensitivity : 0.5521134916039374\n",
      "F1 Score : 0.5477576752705731\n"
     ]
    }
   ],
   "source": [
    "acc_tfidf = accuracy_score(y_test,pred_tfidf)\n",
    "prec_tfidf = precision_score(y_test, pred_tfidf,average='weighted')\n",
    "sens_tfidf = recall_score(y_test,pred_tfidf,average='weighted')\n",
    "f1_tfidf = f1_score(y_test, pred_tfidf,average='weighted')\n",
    "\n",
    "print(\"Accuracy :\", acc_tfidf)\n",
    "print(\"Precision :\", prec_tfidf)\n",
    "print(\"Sensitivity :\", sens_tfidf)\n",
    "print(\"F1 Score :\", f1_tfidf)"
   ]
  },
  {
   "cell_type": "markdown",
   "metadata": {},
   "source": [
    "#### Wordcount vectorization"
   ]
  },
  {
   "cell_type": "code",
   "execution_count": 176,
   "metadata": {},
   "outputs": [],
   "source": [
    "vectorizer = CountVectorizer(\n",
    "    stop_words=\"english\",\n",
    "    preprocessor=clean_text)\n",
    "\n",
    "data_train_count = vectorizer.fit_transform(X_train)\n",
    "data_test_count = vectorizer.transform(X_test)"
   ]
  },
  {
   "cell_type": "code",
   "execution_count": 177,
   "metadata": {},
   "outputs": [
    {
     "name": "stdout",
     "output_type": "stream",
     "text": [
      "\n",
      "\n",
      "Using count vectorization\n",
      "\n",
      "\n",
      "Accuracy : 0.5356108859293572\n",
      "Precision : 0.5368166799621399\n",
      "Sensitivity : 0.5356108859293572\n",
      "F1 Score : 0.5357939338006573\n"
     ]
    }
   ],
   "source": [
    "clf_count = MultinomialNB()\n",
    "clf_count.fit(data_train_count,y_train)\n",
    "\n",
    "#predict on test data:\n",
    "pred_count = clf_count.predict(data_test_count)\n",
    "pred_count_prob = clf_count.predict_proba(data_test_count)\n",
    "print(\"\\n\")\n",
    "print(\"Using count vectorization\")\n",
    "print(\"\\n\")\n",
    "acc_count = accuracy_score(y_test,pred_count)\n",
    "prec_count = precision_score(y_test, pred_count,average='weighted')\n",
    "sens_count = recall_score(y_test,pred_count,average='weighted')\n",
    "f1_count = f1_score(y_test, pred_count,average='weighted')\n",
    "\n",
    "print(\"Accuracy :\", acc_count)\n",
    "print(\"Precision :\", prec_count)\n",
    "print(\"Sensitivity :\", sens_count)\n",
    "print(\"F1 Score :\", f1_count)"
   ]
  },
  {
   "cell_type": "markdown",
   "metadata": {},
   "source": [
    "## Logistic regression prediction"
   ]
  },
  {
   "cell_type": "code",
   "execution_count": 29,
   "metadata": {},
   "outputs": [
    {
     "name": "stderr",
     "output_type": "stream",
     "text": [
      "/Users/laks/anaconda3/lib/python3.6/site-packages/sklearn/linear_model/logistic.py:433: FutureWarning: Default solver will be changed to 'lbfgs' in 0.22. Specify a solver to silence this warning.\n",
      "  FutureWarning)\n"
     ]
    },
    {
     "data": {
      "text/plain": [
       "<matplotlib.axes._subplots.AxesSubplot at 0x1a7cefb630>"
      ]
     },
     "execution_count": 29,
     "metadata": {},
     "output_type": "execute_result"
    },
    {
     "data": {
      "image/png": "[encoded data removed]",
      "text/plain": [
       "<Figure size 432x288 with 1 Axes>"
      ]
     },
     "metadata": {
      "needs_background": "light"
     },
     "output_type": "display_data"
    }
   ],
   "source": [
    "logr = LogisticRegression(random_state=0).fit(x_train_words_sm, y_train_words_sm)\n",
    "logr_predictions = logr.predict(data_test_tfidf)  \n",
    "cm = confusion_matrix(y_test, logr_predictions) \n",
    "sns.heatmap(cm, annot = True, cbar = False, square = True, cmap = 'Blues', fmt = 'g', linewidths = 0.5)"
   ]
  },
  {
   "cell_type": "code",
   "execution_count": 214,
   "metadata": {},
   "outputs": [
    {
     "name": "stdout",
     "output_type": "stream",
     "text": [
      "Accuracy : 0.5738274464389114\n",
      "Precision : 0.5680621786395976\n",
      "Sensitivity : 0.5738274464389114\n",
      "F1 Score : 0.5680590020226134\n"
     ]
    }
   ],
   "source": [
    "acc_logr = accuracy_score(y_test,logr_predictions)\n",
    "prec_logr = precision_score(y_test, logr_predictions,average='weighted')\n",
    "sens_logr = recall_score(y_test,logr_predictions,average='weighted')\n",
    "f1_logr = f1_score(y_test, logr_predictions,average='weighted')\n",
    "\n",
    "print(\"Accuracy :\", acc_logr)\n",
    "print(\"Precision :\", prec_logr)\n",
    "print(\"Sensitivity :\", sens_logr)\n",
    "print(\"F1 Score :\", f1_logr)\n"
   ]
  },
  {
   "cell_type": "markdown",
   "metadata": {},
   "source": [
    "# Oversampling"
   ]
  },
  {
   "cell_type": "code",
   "execution_count": 4,
   "metadata": {},
   "outputs": [],
   "source": [
    "def clean_text(text):\n",
    "    \n",
    "    # convert text to lowercase\n",
    "    text = text.strip().lower()\n",
    "    \n",
    "    # replace punctuation characters with spaces\n",
    "    filters='\"\\'%&()*,-./:;<=>?[\\\\]^_`{|}~\\t\\n$€£`~|+=-\"@#\"\"\"'\n",
    "    translate_dict = dict((c, \" \") for c in filters)\n",
    "    translate_map = str.maketrans(translate_dict)\n",
    "    text = text.translate(translate_map)\n",
    "\n",
    "    return text"
   ]
  },
  {
   "cell_type": "markdown",
   "metadata": {},
   "source": [
    "Retrieve data:"
   ]
  },
  {
   "cell_type": "code",
   "execution_count": 5,
   "metadata": {},
   "outputs": [],
   "source": [
    "dataNB = data.dropna()\n",
    "X = dataNB['try']\n",
    "y = dataNB['rating']\n",
    "\n",
    "X_train, X_test, y_train, y_test = train_test_split(X, y, test_size = 0.20, random_state = 0)"
   ]
  },
  {
   "cell_type": "markdown",
   "metadata": {},
   "source": [
    "Vectorize data:"
   ]
  },
  {
   "cell_type": "code",
   "execution_count": 6,
   "metadata": {},
   "outputs": [],
   "source": [
    "vectorizer = TfidfVectorizer(\n",
    "    stop_words=\"english\",\n",
    "    preprocessor=clean_text,\n",
    "    sublinear_tf=True,\n",
    "    min_df=2,\n",
    "    norm='l2',\n",
    "    ngram_range=(1, 5))\n",
    "\n",
    "data_train_tfidf = vectorizer.fit_transform(X_train)\n",
    "data_test_tfidf = vectorizer.transform(X_test)"
   ]
  },
  {
   "cell_type": "markdown",
   "metadata": {},
   "source": [
    "Then over sample using SMOTE"
   ]
  },
  {
   "cell_type": "code",
   "execution_count": 7,
   "metadata": {},
   "outputs": [],
   "source": [
    "sm = SMOTE(random_state=12)\n",
    "x_train_words_sm, y_train_words_sm = sm.fit_sample(data_train_tfidf, y_train)"
   ]
  },
  {
   "cell_type": "markdown",
   "metadata": {},
   "source": [
    "Count the number of occurences in the y_train sets to ensure that the oversampling worked"
   ]
  },
  {
   "cell_type": "code",
   "execution_count": 8,
   "metadata": {},
   "outputs": [],
   "source": [
    "class_check_woSMOTE = Counter(y_train)\n",
    "class_check_words = Counter(y_train_words_sm)"
   ]
  },
  {
   "cell_type": "markdown",
   "metadata": {},
   "source": [
    "checking which models perform the best"
   ]
  },
  {
   "cell_type": "code",
   "execution_count": 10,
   "metadata": {},
   "outputs": [
    {
     "name": "stderr",
     "output_type": "stream",
     "text": [
      "/Users/laks/anaconda3/lib/python3.6/site-packages/sklearn/linear_model/logistic.py:433: FutureWarning: Default solver will be changed to 'lbfgs' in 0.22. Specify a solver to silence this warning.\n",
      "  FutureWarning)\n",
      "/Users/laks/anaconda3/lib/python3.6/site-packages/sklearn/linear_model/logistic.py:460: FutureWarning: Default multi_class will be changed to 'auto' in 0.22. Specify the multi_class option to silence this warning.\n",
      "  \"this warning.\", FutureWarning)\n"
     ]
    },
    {
     "data": {
      "image/png": "[encoded data removed]",
      "text/plain": [
       "<Figure size 432x288 with 1 Axes>"
      ]
     },
     "metadata": {
      "needs_background": "light"
     },
     "output_type": "display_data"
    }
   ],
   "source": [
    "models = [\n",
    "    RandomForestClassifier(n_estimators=200, max_depth=3, random_state=0),\n",
    "    LinearSVC(),\n",
    "    MultinomialNB(),\n",
    "    LogisticRegression(random_state=0),\n",
    "]\n",
    "CV = 5\n",
    "cv_df = pd.DataFrame(index=range(CV * len(models)))\n",
    "entries = []\n",
    "for model in models:\n",
    "    model_name = model.__class__.__name__\n",
    "    accuracies = cross_val_score(model, x_train_words_sm, y_train_words_sm, scoring='accuracy', cv=CV)\n",
    "    for fold_idx, accuracy in enumerate(accuracies):\n",
    "        entries.append((model_name, fold_idx, accuracy))\n",
    "cv_df = pd.DataFrame(entries, columns=['model_name', 'fold_idx', 'accuracy'])\n",
    "\n",
    "import seaborn as sns\n",
    "\n",
    "sns.boxplot(x='model_name', y='accuracy', data=cv_df)\n",
    "sns.stripplot(x='model_name', y='accuracy', data=cv_df, \n",
    "              size=8, jitter=True, edgecolor=\"gray\", linewidth=2)\n",
    "plt.show()"
   ]
  },
  {
   "cell_type": "code",
   "execution_count": 25,
   "metadata": {},
   "outputs": [
    {
     "data": {
      "text/plain": [
       "LinearSVC(C=1.0, class_weight=None, dual=True, fit_intercept=True,\n",
       "     intercept_scaling=1, loss='squared_hinge', max_iter=1000,\n",
       "     multi_class='ovr', penalty='l2', random_state=0, tol=0.0001,\n",
       "     verbose=0)"
      ]
     },
     "execution_count": 25,
     "metadata": {},
     "output_type": "execute_result"
    }
   ],
   "source": [
    "from sklearn.svm import LinearSVC\n",
    "from sklearn.datasets import make_classification\n",
    "#x_train_words_sm, y_train_words_sm = make_classification(random_state = 0,n_features = 1373982)\n",
    "clf = LinearSVC(random_state=0)\n",
    "clf.fit(x_train_words_sm, y_train_words_sm)"
   ]
  },
  {
   "cell_type": "code",
   "execution_count": 27,
   "metadata": {},
   "outputs": [
    {
     "data": {
      "text/plain": [
       "<matplotlib.axes._subplots.AxesSubplot at 0x1a20d95b70>"
      ]
     },
     "execution_count": 27,
     "metadata": {},
     "output_type": "execute_result"
    },
    {
     "data": {
      "image/png": "[encoded data removed]",
      "text/plain": [
       "<Figure size 432x288 with 1 Axes>"
      ]
     },
     "metadata": {
      "needs_background": "light"
     },
     "output_type": "display_data"
    }
   ],
   "source": [
    "SVC_predictions = clf.predict(data_test_tfidf)\n",
    "\n",
    "cm = confusion_matrix(y_test, SVC_predictions) \n",
    "sns.heatmap(cm, annot = True, cbar = False, square = True, cmap = 'Blues', fmt = 'g', linewidths = 0.5)"
   ]
  },
  {
   "cell_type": "code",
   "execution_count": 28,
   "metadata": {},
   "outputs": [
    {
     "name": "stdout",
     "output_type": "stream",
     "text": [
      "Accuracy : 0.012838010748102022\n",
      "Precision : 0.0009867961389908564\n",
      "Sensitivity : 0.012838010748102022\n",
      "F1 Score : 0.0018327199131262743\n"
     ]
    },
    {
     "name": "stderr",
     "output_type": "stream",
     "text": [
      "/Users/laks/anaconda3/lib/python3.6/site-packages/sklearn/metrics/classification.py:1143: UndefinedMetricWarning: Precision is ill-defined and being set to 0.0 in labels with no predicted samples.\n",
      "  'precision', 'predicted', average, warn_for)\n",
      "/Users/laks/anaconda3/lib/python3.6/site-packages/sklearn/metrics/classification.py:1145: UndefinedMetricWarning: Recall is ill-defined and being set to 0.0 in labels with no true samples.\n",
      "  'recall', 'true', average, warn_for)\n",
      "/Users/laks/anaconda3/lib/python3.6/site-packages/sklearn/metrics/classification.py:1143: UndefinedMetricWarning: F-score is ill-defined and being set to 0.0 in labels with no predicted samples.\n",
      "  'precision', 'predicted', average, warn_for)\n",
      "/Users/laks/anaconda3/lib/python3.6/site-packages/sklearn/metrics/classification.py:1145: UndefinedMetricWarning: F-score is ill-defined and being set to 0.0 in labels with no true samples.\n",
      "  'recall', 'true', average, warn_for)\n"
     ]
    }
   ],
   "source": [
    "acc_logr = accuracy_score(y_test,SVC_predictions)\n",
    "prec_logr = precision_score(y_test, SVC_predictions,average='weighted')\n",
    "sens_logr = recall_score(y_test,SVC_predictions,average='weighted')\n",
    "f1_logr = f1_score(y_test, SVC_predictions,average='weighted')\n",
    "\n",
    "print(\"Accuracy :\", acc_logr)\n",
    "print(\"Precision :\", prec_logr)\n",
    "print(\"Sensitivity :\", sens_logr)\n",
    "print(\"F1 Score :\", f1_logr)"
   ]
  },
  {
   "cell_type": "code",
   "execution_count": null,
   "metadata": {},
   "outputs": [],
   "source": [
    "data_to_use <- tpehgdb_features\n",
    "\n",
    "metrics_all <- data.frame()\n",
    "\n",
    "#leave one participant out cross-validation\n",
    "results_lr <- rep(NA, nrow(data_to_use))\n",
    "results_tree <- rep(NA, nrow(data_to_use))\n",
    "results_svm <- rep(NA, nrow(data_to_use))\n",
    "results_rf <- rep(NA, nrow(data_to_use))\n",
    "\n",
    "for(index_subj  in 1:nrow(data_to_use))\n",
    "{\n",
    "  #remove subject to validate\n",
    "  training_data <- data_to_use[-index_subj, ]\n",
    "  training_data_smote <- SMOTE(preterm ~ . , cbind(training_data[, c(\"preterm\", features)]), k=5, perc.over = 600)\n",
    "  \n",
    "  #no need to balance the dataset anymore     \n",
    "  #select features in the training set\n",
    "  training_data_formula <- training_data_smote[, c(\"preterm\", features)]\n",
    "  \n",
    "  #select features in the validation set\n",
    "  validation_data <- data_to_use[index_subj, features]\n",
    "  \n",
    "  #logistic regression\n",
    "  glm.fit <- glm(preterm ~.,\n",
    "                 data = training_data_formula,\n",
    "                 family = binomial)\n",
    "  glm.probs <- predict(glm.fit, validation_data, type = \"response\")\n",
    "  predictions_lr <- ifelse(glm.probs < 0.5, \"t\", \"f\")\n",
    "  results_lr[index_subj] <- predictions_lr\n",
    "  \n",
    "  #classification tree\n",
    "  tree.fit <- tree(preterm ~.,\n",
    "                   data = training_data_formula)\n",
    "  predictions_tree <- predict(tree.fit, validation_data, type = \"class\")\n",
    "  results_tree[index_subj] <- predictions_tree\n",
    "  \n",
    "  #svm\n",
    "  svm <- svm(preterm ~.,\n",
    "             data = training_data_formula\n",
    "  )\n",
    "  predictions_svm <- predict(svm, validation_data)\n",
    "  results_svm[index_subj] <- predictions_svm\n",
    "  \n",
    "  #random forest      \n",
    "  rf <- randomForest(preterm ~.,\n",
    "                     data = training_data_formula)\n",
    "  predictions_rf <- predict(rf, validation_data)\n",
    "  results_rf[index_subj] <- predictions_rf   \n",
    "}"
   ]
  }
 ],
 "metadata": {
  "kernelspec": {
   "display_name": "Python 3",
   "language": "python",
   "name": "python3"
  },
  "language_info": {
   "codemirror_mode": {
    "name": "ipython",
    "version": 3
   },
   "file_extension": ".py",
   "mimetype": "text/x-python",
   "name": "python",
   "nbconvert_exporter": "python",
   "pygments_lexer": "ipython3",
   "version": "3.6.8"
  }
 },
 "nbformat": 4,
 "nbformat_minor": 2
}
